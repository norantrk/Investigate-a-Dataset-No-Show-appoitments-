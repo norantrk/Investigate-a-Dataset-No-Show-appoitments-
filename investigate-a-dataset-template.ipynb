{
 "cells": [
  {
   "cell_type": "markdown",
   "metadata": {},
   "source": [
    ">\n",
    "# Project: Investigate a Dataset (No Show appoitments)\n",
    "\n",
    "## Table of Contents\n",
    "<ul>\n",
    "<li><a href=\"#intro\">Introduction</a></li>\n",
    "<li><a href=\"#wrangling\">Data Wrangling</a></li>\n",
    "<li><a href=\"#eda\">Exploratory Data Analysis</a></li>\n",
    "<li><a href=\"#conclusions\">Conclusions</a></li>\n",
    "</ul>"
   ]
  },
  {
   "cell_type": "markdown",
   "metadata": {},
   "source": [
    "<a id='intro'></a>\n",
    "## Introduction\n",
    "\n",
    "> This project's goal is to investigate a dataset that contains 110527 medical appointments its 12 associated variables. The purpose of this dataset is to find why a patient schedules a doctor's appointment, obtains all necessary information and then fails to show up. The vital variable here is (NO Show). Hence, this project will analyze the relationship between this characteristic with the other provided ones.\n",
    "\n",
    "> The variables means: \n",
    ">- **PatientId**: Identification of a patient.\n",
    ">- **Gender**: Male or Female.\n",
    ">- **Age**: How old is the patient.\n",
    ">- **Neighbourhood**: Where the appointment takes place.\n",
    ">- **Scholarship**: Program of the Government of Brazil, part of the Fome Zero network of federal assistance programs.\n",
    ">- **Hipertension**: True or False.\n",
    ">- **Diabetes**: True or False.\n",
    ">- **Alcoholism**: True or False.\n",
    ">- **Handcap**: True or False.\n",
    ">- **SMS_received**: 1 or more messages sent to the patient..\n",
    ">- **No-show**: True or False.\n",
    "### Research Questions\n",
    ">The main questions that this analysis will focus on are as follow:\n",
    ">1. Do Weekends have a better showing up probability than weekdays?\n",
    ">2. Do people tend to show up on the same day of scheduling?\n",
    ">3. DO SMS notifications affect the percentage of showing up?\n",
    ">4. Does gender play any role in committing to a medical appointment?\n",
    ">5. Do scholarship, Age, Handicap & Alcoholism affect the probability of patients showing up?\n"
   ]
  },
  {
   "cell_type": "code",
   "execution_count": 83,
   "metadata": {},
   "outputs": [],
   "source": [
    "\n",
    "#import important Libraries\n",
    "import pandas as pd\n",
    "import numpy as np\n",
    "import matplotlib.pyplot as plt\n",
    "import seaborn as sns\n",
    "\n",
    "%matplotlib inline"
   ]
  },
  {
   "cell_type": "markdown",
   "metadata": {},
   "source": [
    "<a id='wrangling'></a>\n",
    "## Data Wrangling\n",
    "\n",
    "> In this section, the data will be cleaned and prepared to be analyzed. \n",
    "\n",
    "### General Properties"
   ]
  },
  {
   "cell_type": "code",
   "execution_count": 84,
   "metadata": {},
   "outputs": [],
   "source": [
    "#Loading the data set:\n",
    "df= pd.read_csv('noshowappointments-kagglev2-may-2016.csv') "
   ]
  },
  {
   "cell_type": "code",
   "execution_count": 85,
   "metadata": {},
   "outputs": [
    {
     "data": {
      "text/html": [
       "<div>\n",
       "<style scoped>\n",
       "    .dataframe tbody tr th:only-of-type {\n",
       "        vertical-align: middle;\n",
       "    }\n",
       "\n",
       "    .dataframe tbody tr th {\n",
       "        vertical-align: top;\n",
       "    }\n",
       "\n",
       "    .dataframe thead th {\n",
       "        text-align: right;\n",
       "    }\n",
       "</style>\n",
       "<table border=\"1\" class=\"dataframe\">\n",
       "  <thead>\n",
       "    <tr style=\"text-align: right;\">\n",
       "      <th></th>\n",
       "      <th>PatientId</th>\n",
       "      <th>AppointmentID</th>\n",
       "      <th>Gender</th>\n",
       "      <th>ScheduledDay</th>\n",
       "      <th>AppointmentDay</th>\n",
       "      <th>Age</th>\n",
       "      <th>Neighbourhood</th>\n",
       "      <th>Scholarship</th>\n",
       "      <th>Hipertension</th>\n",
       "      <th>Diabetes</th>\n",
       "      <th>Alcoholism</th>\n",
       "      <th>Handcap</th>\n",
       "      <th>SMS_received</th>\n",
       "      <th>No-show</th>\n",
       "    </tr>\n",
       "  </thead>\n",
       "  <tbody>\n",
       "    <tr>\n",
       "      <th>0</th>\n",
       "      <td>2.987250e+13</td>\n",
       "      <td>5642903</td>\n",
       "      <td>F</td>\n",
       "      <td>2016-04-29T18:38:08Z</td>\n",
       "      <td>2016-04-29T00:00:00Z</td>\n",
       "      <td>62</td>\n",
       "      <td>JARDIM DA PENHA</td>\n",
       "      <td>0</td>\n",
       "      <td>1</td>\n",
       "      <td>0</td>\n",
       "      <td>0</td>\n",
       "      <td>0</td>\n",
       "      <td>0</td>\n",
       "      <td>No</td>\n",
       "    </tr>\n",
       "    <tr>\n",
       "      <th>1</th>\n",
       "      <td>5.589978e+14</td>\n",
       "      <td>5642503</td>\n",
       "      <td>M</td>\n",
       "      <td>2016-04-29T16:08:27Z</td>\n",
       "      <td>2016-04-29T00:00:00Z</td>\n",
       "      <td>56</td>\n",
       "      <td>JARDIM DA PENHA</td>\n",
       "      <td>0</td>\n",
       "      <td>0</td>\n",
       "      <td>0</td>\n",
       "      <td>0</td>\n",
       "      <td>0</td>\n",
       "      <td>0</td>\n",
       "      <td>No</td>\n",
       "    </tr>\n",
       "    <tr>\n",
       "      <th>2</th>\n",
       "      <td>4.262962e+12</td>\n",
       "      <td>5642549</td>\n",
       "      <td>F</td>\n",
       "      <td>2016-04-29T16:19:04Z</td>\n",
       "      <td>2016-04-29T00:00:00Z</td>\n",
       "      <td>62</td>\n",
       "      <td>MATA DA PRAIA</td>\n",
       "      <td>0</td>\n",
       "      <td>0</td>\n",
       "      <td>0</td>\n",
       "      <td>0</td>\n",
       "      <td>0</td>\n",
       "      <td>0</td>\n",
       "      <td>No</td>\n",
       "    </tr>\n",
       "    <tr>\n",
       "      <th>3</th>\n",
       "      <td>8.679512e+11</td>\n",
       "      <td>5642828</td>\n",
       "      <td>F</td>\n",
       "      <td>2016-04-29T17:29:31Z</td>\n",
       "      <td>2016-04-29T00:00:00Z</td>\n",
       "      <td>8</td>\n",
       "      <td>PONTAL DE CAMBURI</td>\n",
       "      <td>0</td>\n",
       "      <td>0</td>\n",
       "      <td>0</td>\n",
       "      <td>0</td>\n",
       "      <td>0</td>\n",
       "      <td>0</td>\n",
       "      <td>No</td>\n",
       "    </tr>\n",
       "    <tr>\n",
       "      <th>4</th>\n",
       "      <td>8.841186e+12</td>\n",
       "      <td>5642494</td>\n",
       "      <td>F</td>\n",
       "      <td>2016-04-29T16:07:23Z</td>\n",
       "      <td>2016-04-29T00:00:00Z</td>\n",
       "      <td>56</td>\n",
       "      <td>JARDIM DA PENHA</td>\n",
       "      <td>0</td>\n",
       "      <td>1</td>\n",
       "      <td>1</td>\n",
       "      <td>0</td>\n",
       "      <td>0</td>\n",
       "      <td>0</td>\n",
       "      <td>No</td>\n",
       "    </tr>\n",
       "    <tr>\n",
       "      <th>5</th>\n",
       "      <td>9.598513e+13</td>\n",
       "      <td>5626772</td>\n",
       "      <td>F</td>\n",
       "      <td>2016-04-27T08:36:51Z</td>\n",
       "      <td>2016-04-29T00:00:00Z</td>\n",
       "      <td>76</td>\n",
       "      <td>REPÚBLICA</td>\n",
       "      <td>0</td>\n",
       "      <td>1</td>\n",
       "      <td>0</td>\n",
       "      <td>0</td>\n",
       "      <td>0</td>\n",
       "      <td>0</td>\n",
       "      <td>No</td>\n",
       "    </tr>\n",
       "    <tr>\n",
       "      <th>6</th>\n",
       "      <td>7.336882e+14</td>\n",
       "      <td>5630279</td>\n",
       "      <td>F</td>\n",
       "      <td>2016-04-27T15:05:12Z</td>\n",
       "      <td>2016-04-29T00:00:00Z</td>\n",
       "      <td>23</td>\n",
       "      <td>GOIABEIRAS</td>\n",
       "      <td>0</td>\n",
       "      <td>0</td>\n",
       "      <td>0</td>\n",
       "      <td>0</td>\n",
       "      <td>0</td>\n",
       "      <td>0</td>\n",
       "      <td>Yes</td>\n",
       "    </tr>\n",
       "    <tr>\n",
       "      <th>7</th>\n",
       "      <td>3.449833e+12</td>\n",
       "      <td>5630575</td>\n",
       "      <td>F</td>\n",
       "      <td>2016-04-27T15:39:58Z</td>\n",
       "      <td>2016-04-29T00:00:00Z</td>\n",
       "      <td>39</td>\n",
       "      <td>GOIABEIRAS</td>\n",
       "      <td>0</td>\n",
       "      <td>0</td>\n",
       "      <td>0</td>\n",
       "      <td>0</td>\n",
       "      <td>0</td>\n",
       "      <td>0</td>\n",
       "      <td>Yes</td>\n",
       "    </tr>\n",
       "    <tr>\n",
       "      <th>8</th>\n",
       "      <td>5.639473e+13</td>\n",
       "      <td>5638447</td>\n",
       "      <td>F</td>\n",
       "      <td>2016-04-29T08:02:16Z</td>\n",
       "      <td>2016-04-29T00:00:00Z</td>\n",
       "      <td>21</td>\n",
       "      <td>ANDORINHAS</td>\n",
       "      <td>0</td>\n",
       "      <td>0</td>\n",
       "      <td>0</td>\n",
       "      <td>0</td>\n",
       "      <td>0</td>\n",
       "      <td>0</td>\n",
       "      <td>No</td>\n",
       "    </tr>\n",
       "    <tr>\n",
       "      <th>9</th>\n",
       "      <td>7.812456e+13</td>\n",
       "      <td>5629123</td>\n",
       "      <td>F</td>\n",
       "      <td>2016-04-27T12:48:25Z</td>\n",
       "      <td>2016-04-29T00:00:00Z</td>\n",
       "      <td>19</td>\n",
       "      <td>CONQUISTA</td>\n",
       "      <td>0</td>\n",
       "      <td>0</td>\n",
       "      <td>0</td>\n",
       "      <td>0</td>\n",
       "      <td>0</td>\n",
       "      <td>0</td>\n",
       "      <td>No</td>\n",
       "    </tr>\n",
       "  </tbody>\n",
       "</table>\n",
       "</div>"
      ],
      "text/plain": [
       "      PatientId  AppointmentID Gender          ScheduledDay  \\\n",
       "0  2.987250e+13        5642903      F  2016-04-29T18:38:08Z   \n",
       "1  5.589978e+14        5642503      M  2016-04-29T16:08:27Z   \n",
       "2  4.262962e+12        5642549      F  2016-04-29T16:19:04Z   \n",
       "3  8.679512e+11        5642828      F  2016-04-29T17:29:31Z   \n",
       "4  8.841186e+12        5642494      F  2016-04-29T16:07:23Z   \n",
       "5  9.598513e+13        5626772      F  2016-04-27T08:36:51Z   \n",
       "6  7.336882e+14        5630279      F  2016-04-27T15:05:12Z   \n",
       "7  3.449833e+12        5630575      F  2016-04-27T15:39:58Z   \n",
       "8  5.639473e+13        5638447      F  2016-04-29T08:02:16Z   \n",
       "9  7.812456e+13        5629123      F  2016-04-27T12:48:25Z   \n",
       "\n",
       "         AppointmentDay  Age      Neighbourhood  Scholarship  Hipertension  \\\n",
       "0  2016-04-29T00:00:00Z   62    JARDIM DA PENHA            0             1   \n",
       "1  2016-04-29T00:00:00Z   56    JARDIM DA PENHA            0             0   \n",
       "2  2016-04-29T00:00:00Z   62      MATA DA PRAIA            0             0   \n",
       "3  2016-04-29T00:00:00Z    8  PONTAL DE CAMBURI            0             0   \n",
       "4  2016-04-29T00:00:00Z   56    JARDIM DA PENHA            0             1   \n",
       "5  2016-04-29T00:00:00Z   76          REPÚBLICA            0             1   \n",
       "6  2016-04-29T00:00:00Z   23         GOIABEIRAS            0             0   \n",
       "7  2016-04-29T00:00:00Z   39         GOIABEIRAS            0             0   \n",
       "8  2016-04-29T00:00:00Z   21         ANDORINHAS            0             0   \n",
       "9  2016-04-29T00:00:00Z   19          CONQUISTA            0             0   \n",
       "\n",
       "   Diabetes  Alcoholism  Handcap  SMS_received No-show  \n",
       "0         0           0        0             0      No  \n",
       "1         0           0        0             0      No  \n",
       "2         0           0        0             0      No  \n",
       "3         0           0        0             0      No  \n",
       "4         1           0        0             0      No  \n",
       "5         0           0        0             0      No  \n",
       "6         0           0        0             0     Yes  \n",
       "7         0           0        0             0     Yes  \n",
       "8         0           0        0             0      No  \n",
       "9         0           0        0             0      No  "
      ]
     },
     "execution_count": 85,
     "metadata": {},
     "output_type": "execute_result"
    }
   ],
   "source": [
    "#Inspecting the data\n",
    "df.head(10)"
   ]
  },
  {
   "cell_type": "code",
   "execution_count": 86,
   "metadata": {},
   "outputs": [
    {
     "data": {
      "text/plain": [
       "(110527, 14)"
      ]
     },
     "execution_count": 86,
     "metadata": {},
     "output_type": "execute_result"
    }
   ],
   "source": [
    "#The number of samples and coulmns\n",
    "df.shape"
   ]
  },
  {
   "cell_type": "code",
   "execution_count": 87,
   "metadata": {},
   "outputs": [
    {
     "name": "stdout",
     "output_type": "stream",
     "text": [
      "<class 'pandas.core.frame.DataFrame'>\n",
      "RangeIndex: 110527 entries, 0 to 110526\n",
      "Data columns (total 14 columns):\n",
      " #   Column          Non-Null Count   Dtype  \n",
      "---  ------          --------------   -----  \n",
      " 0   PatientId       110527 non-null  float64\n",
      " 1   AppointmentID   110527 non-null  int64  \n",
      " 2   Gender          110527 non-null  object \n",
      " 3   ScheduledDay    110527 non-null  object \n",
      " 4   AppointmentDay  110527 non-null  object \n",
      " 5   Age             110527 non-null  int64  \n",
      " 6   Neighbourhood   110527 non-null  object \n",
      " 7   Scholarship     110527 non-null  int64  \n",
      " 8   Hipertension    110527 non-null  int64  \n",
      " 9   Diabetes        110527 non-null  int64  \n",
      " 10  Alcoholism      110527 non-null  int64  \n",
      " 11  Handcap         110527 non-null  int64  \n",
      " 12  SMS_received    110527 non-null  int64  \n",
      " 13  No-show         110527 non-null  object \n",
      "dtypes: float64(1), int64(8), object(5)\n",
      "memory usage: 11.8+ MB\n"
     ]
    }
   ],
   "source": [
    "#Informations about the non-null data and the type\n",
    "df.info()"
   ]
  },
  {
   "cell_type": "code",
   "execution_count": 88,
   "metadata": {},
   "outputs": [
    {
     "data": {
      "text/html": [
       "<div>\n",
       "<style scoped>\n",
       "    .dataframe tbody tr th:only-of-type {\n",
       "        vertical-align: middle;\n",
       "    }\n",
       "\n",
       "    .dataframe tbody tr th {\n",
       "        vertical-align: top;\n",
       "    }\n",
       "\n",
       "    .dataframe thead th {\n",
       "        text-align: right;\n",
       "    }\n",
       "</style>\n",
       "<table border=\"1\" class=\"dataframe\">\n",
       "  <thead>\n",
       "    <tr style=\"text-align: right;\">\n",
       "      <th></th>\n",
       "      <th>PatientId</th>\n",
       "      <th>AppointmentID</th>\n",
       "      <th>Age</th>\n",
       "      <th>Scholarship</th>\n",
       "      <th>Hipertension</th>\n",
       "      <th>Diabetes</th>\n",
       "      <th>Alcoholism</th>\n",
       "      <th>Handcap</th>\n",
       "      <th>SMS_received</th>\n",
       "    </tr>\n",
       "  </thead>\n",
       "  <tbody>\n",
       "    <tr>\n",
       "      <th>count</th>\n",
       "      <td>1.105270e+05</td>\n",
       "      <td>1.105270e+05</td>\n",
       "      <td>110527.000000</td>\n",
       "      <td>110527.000000</td>\n",
       "      <td>110527.000000</td>\n",
       "      <td>110527.000000</td>\n",
       "      <td>110527.000000</td>\n",
       "      <td>110527.000000</td>\n",
       "      <td>110527.000000</td>\n",
       "    </tr>\n",
       "    <tr>\n",
       "      <th>mean</th>\n",
       "      <td>1.474963e+14</td>\n",
       "      <td>5.675305e+06</td>\n",
       "      <td>37.088874</td>\n",
       "      <td>0.098266</td>\n",
       "      <td>0.197246</td>\n",
       "      <td>0.071865</td>\n",
       "      <td>0.030400</td>\n",
       "      <td>0.022248</td>\n",
       "      <td>0.321026</td>\n",
       "    </tr>\n",
       "    <tr>\n",
       "      <th>std</th>\n",
       "      <td>2.560949e+14</td>\n",
       "      <td>7.129575e+04</td>\n",
       "      <td>23.110205</td>\n",
       "      <td>0.297675</td>\n",
       "      <td>0.397921</td>\n",
       "      <td>0.258265</td>\n",
       "      <td>0.171686</td>\n",
       "      <td>0.161543</td>\n",
       "      <td>0.466873</td>\n",
       "    </tr>\n",
       "    <tr>\n",
       "      <th>min</th>\n",
       "      <td>3.921784e+04</td>\n",
       "      <td>5.030230e+06</td>\n",
       "      <td>-1.000000</td>\n",
       "      <td>0.000000</td>\n",
       "      <td>0.000000</td>\n",
       "      <td>0.000000</td>\n",
       "      <td>0.000000</td>\n",
       "      <td>0.000000</td>\n",
       "      <td>0.000000</td>\n",
       "    </tr>\n",
       "    <tr>\n",
       "      <th>25%</th>\n",
       "      <td>4.172614e+12</td>\n",
       "      <td>5.640286e+06</td>\n",
       "      <td>18.000000</td>\n",
       "      <td>0.000000</td>\n",
       "      <td>0.000000</td>\n",
       "      <td>0.000000</td>\n",
       "      <td>0.000000</td>\n",
       "      <td>0.000000</td>\n",
       "      <td>0.000000</td>\n",
       "    </tr>\n",
       "    <tr>\n",
       "      <th>50%</th>\n",
       "      <td>3.173184e+13</td>\n",
       "      <td>5.680573e+06</td>\n",
       "      <td>37.000000</td>\n",
       "      <td>0.000000</td>\n",
       "      <td>0.000000</td>\n",
       "      <td>0.000000</td>\n",
       "      <td>0.000000</td>\n",
       "      <td>0.000000</td>\n",
       "      <td>0.000000</td>\n",
       "    </tr>\n",
       "    <tr>\n",
       "      <th>75%</th>\n",
       "      <td>9.439172e+13</td>\n",
       "      <td>5.725524e+06</td>\n",
       "      <td>55.000000</td>\n",
       "      <td>0.000000</td>\n",
       "      <td>0.000000</td>\n",
       "      <td>0.000000</td>\n",
       "      <td>0.000000</td>\n",
       "      <td>0.000000</td>\n",
       "      <td>1.000000</td>\n",
       "    </tr>\n",
       "    <tr>\n",
       "      <th>max</th>\n",
       "      <td>9.999816e+14</td>\n",
       "      <td>5.790484e+06</td>\n",
       "      <td>115.000000</td>\n",
       "      <td>1.000000</td>\n",
       "      <td>1.000000</td>\n",
       "      <td>1.000000</td>\n",
       "      <td>1.000000</td>\n",
       "      <td>4.000000</td>\n",
       "      <td>1.000000</td>\n",
       "    </tr>\n",
       "  </tbody>\n",
       "</table>\n",
       "</div>"
      ],
      "text/plain": [
       "          PatientId  AppointmentID            Age    Scholarship  \\\n",
       "count  1.105270e+05   1.105270e+05  110527.000000  110527.000000   \n",
       "mean   1.474963e+14   5.675305e+06      37.088874       0.098266   \n",
       "std    2.560949e+14   7.129575e+04      23.110205       0.297675   \n",
       "min    3.921784e+04   5.030230e+06      -1.000000       0.000000   \n",
       "25%    4.172614e+12   5.640286e+06      18.000000       0.000000   \n",
       "50%    3.173184e+13   5.680573e+06      37.000000       0.000000   \n",
       "75%    9.439172e+13   5.725524e+06      55.000000       0.000000   \n",
       "max    9.999816e+14   5.790484e+06     115.000000       1.000000   \n",
       "\n",
       "        Hipertension       Diabetes     Alcoholism        Handcap  \\\n",
       "count  110527.000000  110527.000000  110527.000000  110527.000000   \n",
       "mean        0.197246       0.071865       0.030400       0.022248   \n",
       "std         0.397921       0.258265       0.171686       0.161543   \n",
       "min         0.000000       0.000000       0.000000       0.000000   \n",
       "25%         0.000000       0.000000       0.000000       0.000000   \n",
       "50%         0.000000       0.000000       0.000000       0.000000   \n",
       "75%         0.000000       0.000000       0.000000       0.000000   \n",
       "max         1.000000       1.000000       1.000000       4.000000   \n",
       "\n",
       "        SMS_received  \n",
       "count  110527.000000  \n",
       "mean        0.321026  \n",
       "std         0.466873  \n",
       "min         0.000000  \n",
       "25%         0.000000  \n",
       "50%         0.000000  \n",
       "75%         1.000000  \n",
       "max         1.000000  "
      ]
     },
     "execution_count": 88,
     "metadata": {},
     "output_type": "execute_result"
    }
   ],
   "source": [
    "df.describe()"
   ]
  },
  {
   "cell_type": "code",
   "execution_count": 89,
   "metadata": {},
   "outputs": [
    {
     "data": {
      "text/plain": [
       "PatientId          62299\n",
       "AppointmentID     110527\n",
       "Gender                 2\n",
       "ScheduledDay      103549\n",
       "AppointmentDay        27\n",
       "Age                  104\n",
       "Neighbourhood         81\n",
       "Scholarship            2\n",
       "Hipertension           2\n",
       "Diabetes               2\n",
       "Alcoholism             2\n",
       "Handcap                5\n",
       "SMS_received           2\n",
       "No-show                2\n",
       "dtype: int64"
      ]
     },
     "execution_count": 89,
     "metadata": {},
     "output_type": "execute_result"
    }
   ],
   "source": [
    "# checking the number of unique values in each column\n",
    "df.nunique()"
   ]
  },
  {
   "cell_type": "code",
   "execution_count": 90,
   "metadata": {},
   "outputs": [
    {
     "data": {
      "text/plain": [
       "0"
      ]
     },
     "execution_count": 90,
     "metadata": {},
     "output_type": "execute_result"
    }
   ],
   "source": [
    "#checking for the duplication\n",
    "df.duplicated().sum()"
   ]
  },
  {
   "cell_type": "code",
   "execution_count": 91,
   "metadata": {},
   "outputs": [
    {
     "data": {
      "text/plain": [
       "PatientId         0\n",
       "AppointmentID     0\n",
       "Gender            0\n",
       "ScheduledDay      0\n",
       "AppointmentDay    0\n",
       "Age               0\n",
       "Neighbourhood     0\n",
       "Scholarship       0\n",
       "Hipertension      0\n",
       "Diabetes          0\n",
       "Alcoholism        0\n",
       "Handcap           0\n",
       "SMS_received      0\n",
       "No-show           0\n",
       "dtype: int64"
      ]
     },
     "execution_count": 91,
     "metadata": {},
     "output_type": "execute_result"
    }
   ],
   "source": [
    "#Checking for the null values\n",
    "df.isnull().sum()"
   ]
  },
  {
   "cell_type": "code",
   "execution_count": 92,
   "metadata": {},
   "outputs": [
    {
     "data": {
      "text/plain": [
       "PatientId         float64\n",
       "AppointmentID       int64\n",
       "Gender             object\n",
       "ScheduledDay       object\n",
       "AppointmentDay     object\n",
       "Age                 int64\n",
       "Neighbourhood      object\n",
       "Scholarship         int64\n",
       "Hipertension        int64\n",
       "Diabetes            int64\n",
       "Alcoholism          int64\n",
       "Handcap             int64\n",
       "SMS_received        int64\n",
       "No-show            object\n",
       "dtype: object"
      ]
     },
     "execution_count": 92,
     "metadata": {},
     "output_type": "execute_result"
    }
   ],
   "source": [
    "# checking datatypes of the columns\n",
    "df.dtypes"
   ]
  },
  {
   "cell_type": "code",
   "execution_count": 93,
   "metadata": {},
   "outputs": [
    {
     "data": {
      "text/html": [
       "<div>\n",
       "<style scoped>\n",
       "    .dataframe tbody tr th:only-of-type {\n",
       "        vertical-align: middle;\n",
       "    }\n",
       "\n",
       "    .dataframe tbody tr th {\n",
       "        vertical-align: top;\n",
       "    }\n",
       "\n",
       "    .dataframe thead th {\n",
       "        text-align: right;\n",
       "    }\n",
       "</style>\n",
       "<table border=\"1\" class=\"dataframe\">\n",
       "  <thead>\n",
       "    <tr style=\"text-align: right;\">\n",
       "      <th></th>\n",
       "      <th>PatientId</th>\n",
       "      <th>AppointmentID</th>\n",
       "      <th>Gender</th>\n",
       "      <th>ScheduledDay</th>\n",
       "      <th>AppointmentDay</th>\n",
       "      <th>Age</th>\n",
       "      <th>Neighbourhood</th>\n",
       "      <th>Scholarship</th>\n",
       "      <th>Hipertension</th>\n",
       "      <th>Diabetes</th>\n",
       "      <th>Alcoholism</th>\n",
       "      <th>Handcap</th>\n",
       "      <th>SMS_received</th>\n",
       "      <th>No-show</th>\n",
       "    </tr>\n",
       "  </thead>\n",
       "  <tbody>\n",
       "    <tr>\n",
       "      <th>0</th>\n",
       "      <td>2.987250e+13</td>\n",
       "      <td>5642903</td>\n",
       "      <td>F</td>\n",
       "      <td>2016-04-29T18:38:08Z</td>\n",
       "      <td>2016-04-29T00:00:00Z</td>\n",
       "      <td>62</td>\n",
       "      <td>JARDIM DA PENHA</td>\n",
       "      <td>0</td>\n",
       "      <td>1</td>\n",
       "      <td>0</td>\n",
       "      <td>0</td>\n",
       "      <td>0</td>\n",
       "      <td>0</td>\n",
       "      <td>No</td>\n",
       "    </tr>\n",
       "  </tbody>\n",
       "</table>\n",
       "</div>"
      ],
      "text/plain": [
       "      PatientId  AppointmentID Gender          ScheduledDay  \\\n",
       "0  2.987250e+13        5642903      F  2016-04-29T18:38:08Z   \n",
       "\n",
       "         AppointmentDay  Age    Neighbourhood  Scholarship  Hipertension  \\\n",
       "0  2016-04-29T00:00:00Z   62  JARDIM DA PENHA            0             1   \n",
       "\n",
       "   Diabetes  Alcoholism  Handcap  SMS_received No-show  \n",
       "0         0           0        0             0      No  "
      ]
     },
     "execution_count": 93,
     "metadata": {},
     "output_type": "execute_result"
    }
   ],
   "source": [
    "df.head(1)"
   ]
  },
  {
   "cell_type": "markdown",
   "metadata": {},
   "source": [
    "#### Notes \n",
    ">There are no missing or duplicated values, but some problems have been noticed with the data set that needs to be fixed in the cleaning phase. Each one will be handled in detail. \n",
    "\n",
    "### Data Cleaning "
   ]
  },
  {
   "cell_type": "markdown",
   "metadata": {},
   "source": [
    "#### Problem one\n",
    ">The names of the columns need to be more consistent, including underscore, lower, and some spelling mistakes need corrections: handcap :handicap."
   ]
  },
  {
   "cell_type": "code",
   "execution_count": 94,
   "metadata": {},
   "outputs": [],
   "source": [
    "# Replace - with _ and lowercase labels for the dataset\n",
    "df.rename(columns=lambda x: x.strip().lower().replace(\"-\", \"_\"), inplace=True)"
   ]
  },
  {
   "cell_type": "code",
   "execution_count": 95,
   "metadata": {},
   "outputs": [
    {
     "data": {
      "text/html": [
       "<div>\n",
       "<style scoped>\n",
       "    .dataframe tbody tr th:only-of-type {\n",
       "        vertical-align: middle;\n",
       "    }\n",
       "\n",
       "    .dataframe tbody tr th {\n",
       "        vertical-align: top;\n",
       "    }\n",
       "\n",
       "    .dataframe thead th {\n",
       "        text-align: right;\n",
       "    }\n",
       "</style>\n",
       "<table border=\"1\" class=\"dataframe\">\n",
       "  <thead>\n",
       "    <tr style=\"text-align: right;\">\n",
       "      <th></th>\n",
       "      <th>patientid</th>\n",
       "      <th>appointmentid</th>\n",
       "      <th>gender</th>\n",
       "      <th>scheduledday</th>\n",
       "      <th>appointmentday</th>\n",
       "      <th>age</th>\n",
       "      <th>neighbourhood</th>\n",
       "      <th>scholarship</th>\n",
       "      <th>hipertension</th>\n",
       "      <th>diabetes</th>\n",
       "      <th>alcoholism</th>\n",
       "      <th>handcap</th>\n",
       "      <th>sms_received</th>\n",
       "      <th>no_show</th>\n",
       "    </tr>\n",
       "  </thead>\n",
       "  <tbody>\n",
       "    <tr>\n",
       "      <th>0</th>\n",
       "      <td>2.987250e+13</td>\n",
       "      <td>5642903</td>\n",
       "      <td>F</td>\n",
       "      <td>2016-04-29T18:38:08Z</td>\n",
       "      <td>2016-04-29T00:00:00Z</td>\n",
       "      <td>62</td>\n",
       "      <td>JARDIM DA PENHA</td>\n",
       "      <td>0</td>\n",
       "      <td>1</td>\n",
       "      <td>0</td>\n",
       "      <td>0</td>\n",
       "      <td>0</td>\n",
       "      <td>0</td>\n",
       "      <td>No</td>\n",
       "    </tr>\n",
       "  </tbody>\n",
       "</table>\n",
       "</div>"
      ],
      "text/plain": [
       "      patientid  appointmentid gender          scheduledday  \\\n",
       "0  2.987250e+13        5642903      F  2016-04-29T18:38:08Z   \n",
       "\n",
       "         appointmentday  age    neighbourhood  scholarship  hipertension  \\\n",
       "0  2016-04-29T00:00:00Z   62  JARDIM DA PENHA            0             1   \n",
       "\n",
       "   diabetes  alcoholism  handcap  sms_received no_show  \n",
       "0         0           0        0             0      No  "
      ]
     },
     "execution_count": 95,
     "metadata": {},
     "output_type": "execute_result"
    }
   ],
   "source": [
    "# Making sure that the changes are applied\n",
    "df.head(1)"
   ]
  },
  {
   "cell_type": "code",
   "execution_count": 96,
   "metadata": {},
   "outputs": [],
   "source": [
    "# Renaming the handicab column\n",
    "df.rename(columns={'handcap': 'handicap'}, inplace=True)"
   ]
  },
  {
   "cell_type": "code",
   "execution_count": 97,
   "metadata": {},
   "outputs": [
    {
     "data": {
      "text/html": [
       "<div>\n",
       "<style scoped>\n",
       "    .dataframe tbody tr th:only-of-type {\n",
       "        vertical-align: middle;\n",
       "    }\n",
       "\n",
       "    .dataframe tbody tr th {\n",
       "        vertical-align: top;\n",
       "    }\n",
       "\n",
       "    .dataframe thead th {\n",
       "        text-align: right;\n",
       "    }\n",
       "</style>\n",
       "<table border=\"1\" class=\"dataframe\">\n",
       "  <thead>\n",
       "    <tr style=\"text-align: right;\">\n",
       "      <th></th>\n",
       "      <th>patientid</th>\n",
       "      <th>appointmentid</th>\n",
       "      <th>gender</th>\n",
       "      <th>scheduledday</th>\n",
       "      <th>appointmentday</th>\n",
       "      <th>age</th>\n",
       "      <th>neighbourhood</th>\n",
       "      <th>scholarship</th>\n",
       "      <th>hipertension</th>\n",
       "      <th>diabetes</th>\n",
       "      <th>alcoholism</th>\n",
       "      <th>handicap</th>\n",
       "      <th>sms_received</th>\n",
       "      <th>no_show</th>\n",
       "    </tr>\n",
       "  </thead>\n",
       "  <tbody>\n",
       "    <tr>\n",
       "      <th>0</th>\n",
       "      <td>2.987250e+13</td>\n",
       "      <td>5642903</td>\n",
       "      <td>F</td>\n",
       "      <td>2016-04-29T18:38:08Z</td>\n",
       "      <td>2016-04-29T00:00:00Z</td>\n",
       "      <td>62</td>\n",
       "      <td>JARDIM DA PENHA</td>\n",
       "      <td>0</td>\n",
       "      <td>1</td>\n",
       "      <td>0</td>\n",
       "      <td>0</td>\n",
       "      <td>0</td>\n",
       "      <td>0</td>\n",
       "      <td>No</td>\n",
       "    </tr>\n",
       "  </tbody>\n",
       "</table>\n",
       "</div>"
      ],
      "text/plain": [
       "      patientid  appointmentid gender          scheduledday  \\\n",
       "0  2.987250e+13        5642903      F  2016-04-29T18:38:08Z   \n",
       "\n",
       "         appointmentday  age    neighbourhood  scholarship  hipertension  \\\n",
       "0  2016-04-29T00:00:00Z   62  JARDIM DA PENHA            0             1   \n",
       "\n",
       "   diabetes  alcoholism  handicap  sms_received no_show  \n",
       "0         0           0         0             0      No  "
      ]
     },
     "execution_count": 97,
     "metadata": {},
     "output_type": "execute_result"
    }
   ],
   "source": [
    "# Making sure that the changes are applied\n",
    "df.head(1)"
   ]
  },
  {
   "cell_type": "code",
   "execution_count": 98,
   "metadata": {},
   "outputs": [],
   "source": [
    "# Renaming the appointmentday and scheduledday columns\n",
    "df.rename(columns={'appointmentday': 'appointment_day', 'scheduledday': 'scheduled_day'}, inplace=True)"
   ]
  },
  {
   "cell_type": "code",
   "execution_count": 99,
   "metadata": {},
   "outputs": [
    {
     "data": {
      "text/html": [
       "<div>\n",
       "<style scoped>\n",
       "    .dataframe tbody tr th:only-of-type {\n",
       "        vertical-align: middle;\n",
       "    }\n",
       "\n",
       "    .dataframe tbody tr th {\n",
       "        vertical-align: top;\n",
       "    }\n",
       "\n",
       "    .dataframe thead th {\n",
       "        text-align: right;\n",
       "    }\n",
       "</style>\n",
       "<table border=\"1\" class=\"dataframe\">\n",
       "  <thead>\n",
       "    <tr style=\"text-align: right;\">\n",
       "      <th></th>\n",
       "      <th>patientid</th>\n",
       "      <th>appointmentid</th>\n",
       "      <th>gender</th>\n",
       "      <th>scheduled_day</th>\n",
       "      <th>appointment_day</th>\n",
       "      <th>age</th>\n",
       "      <th>neighbourhood</th>\n",
       "      <th>scholarship</th>\n",
       "      <th>hipertension</th>\n",
       "      <th>diabetes</th>\n",
       "      <th>alcoholism</th>\n",
       "      <th>handicap</th>\n",
       "      <th>sms_received</th>\n",
       "      <th>no_show</th>\n",
       "    </tr>\n",
       "  </thead>\n",
       "  <tbody>\n",
       "    <tr>\n",
       "      <th>0</th>\n",
       "      <td>2.987250e+13</td>\n",
       "      <td>5642903</td>\n",
       "      <td>F</td>\n",
       "      <td>2016-04-29T18:38:08Z</td>\n",
       "      <td>2016-04-29T00:00:00Z</td>\n",
       "      <td>62</td>\n",
       "      <td>JARDIM DA PENHA</td>\n",
       "      <td>0</td>\n",
       "      <td>1</td>\n",
       "      <td>0</td>\n",
       "      <td>0</td>\n",
       "      <td>0</td>\n",
       "      <td>0</td>\n",
       "      <td>No</td>\n",
       "    </tr>\n",
       "  </tbody>\n",
       "</table>\n",
       "</div>"
      ],
      "text/plain": [
       "      patientid  appointmentid gender         scheduled_day  \\\n",
       "0  2.987250e+13        5642903      F  2016-04-29T18:38:08Z   \n",
       "\n",
       "        appointment_day  age    neighbourhood  scholarship  hipertension  \\\n",
       "0  2016-04-29T00:00:00Z   62  JARDIM DA PENHA            0             1   \n",
       "\n",
       "   diabetes  alcoholism  handicap  sms_received no_show  \n",
       "0         0           0         0             0      No  "
      ]
     },
     "execution_count": 99,
     "metadata": {},
     "output_type": "execute_result"
    }
   ],
   "source": [
    "# Making sure that the changes are applied\n",
    "df.head(1)"
   ]
  },
  {
   "cell_type": "markdown",
   "metadata": {},
   "source": [
    "#### Problem two \n",
    ">The columns scheduled_day and appointment_day type must be changed to date type.\n",
    "\n",
    ">[Reference1](https://www.geeksforgeeks.org/convert-the-column-type-from-string-to-datetime-format-in-pandas-dataframe/)"
   ]
  },
  {
   "cell_type": "code",
   "execution_count": 100,
   "metadata": {},
   "outputs": [],
   "source": [
    "# Using astype function to convert the columns from string to datetime type.\n",
    "df['appointment_day'] = df['appointment_day'].astype('datetime64[ns]')\n",
    "df['scheduled_day'] = df['scheduled_day'].astype('datetime64[ns]')"
   ]
  },
  {
   "cell_type": "code",
   "execution_count": 101,
   "metadata": {},
   "outputs": [
    {
     "data": {
      "text/plain": [
       "patientid                 float64\n",
       "appointmentid               int64\n",
       "gender                     object\n",
       "scheduled_day      datetime64[ns]\n",
       "appointment_day    datetime64[ns]\n",
       "age                         int64\n",
       "neighbourhood              object\n",
       "scholarship                 int64\n",
       "hipertension                int64\n",
       "diabetes                    int64\n",
       "alcoholism                  int64\n",
       "handicap                    int64\n",
       "sms_received                int64\n",
       "no_show                    object\n",
       "dtype: object"
      ]
     },
     "execution_count": 101,
     "metadata": {},
     "output_type": "execute_result"
    }
   ],
   "source": [
    "# Checking the types\n",
    "df.dtypes"
   ]
  },
  {
   "cell_type": "code",
   "execution_count": 102,
   "metadata": {},
   "outputs": [
    {
     "data": {
      "text/plain": [
       "0   2016-04-29 18:38:08\n",
       "1   2016-04-29 16:08:27\n",
       "2   2016-04-29 16:19:04\n",
       "3   2016-04-29 17:29:31\n",
       "4   2016-04-29 16:07:23\n",
       "Name: scheduled_day, dtype: datetime64[ns]"
      ]
     },
     "execution_count": 102,
     "metadata": {},
     "output_type": "execute_result"
    }
   ],
   "source": [
    "# Making sure that the changes are applied\n",
    "df['appointment_day'].head()\n",
    "df['scheduled_day'].head()"
   ]
  },
  {
   "cell_type": "code",
   "execution_count": 103,
   "metadata": {},
   "outputs": [
    {
     "data": {
      "text/plain": [
       "0    2016-04-29\n",
       "1    2016-04-29\n",
       "2    2016-04-29\n",
       "3    2016-04-29\n",
       "4    2016-04-29\n",
       "Name: scheduled_day, dtype: object"
      ]
     },
     "execution_count": 103,
     "metadata": {},
     "output_type": "execute_result"
    }
   ],
   "source": [
    "# elimnationg time and keeping only the date from the scheduled_day using to_date function\n",
    "# this step is required to make the comparison between scheduled_day and appointment_day easy\n",
    "df['scheduled_day'] = pd.to_datetime(df['scheduled_day']).dt.date\n",
    "df['scheduled_day'].head()"
   ]
  },
  {
   "cell_type": "markdown",
   "metadata": {},
   "source": [
    "#### Problem three\n",
    ">The min and max values in the age column have(-1,115). Hence, this indicates that the age column may have wrong entries, so we need to check the consistency of the age values. "
   ]
  },
  {
   "cell_type": "code",
   "execution_count": 104,
   "metadata": {},
   "outputs": [
    {
     "data": {
      "text/html": [
       "<div>\n",
       "<style scoped>\n",
       "    .dataframe tbody tr th:only-of-type {\n",
       "        vertical-align: middle;\n",
       "    }\n",
       "\n",
       "    .dataframe tbody tr th {\n",
       "        vertical-align: top;\n",
       "    }\n",
       "\n",
       "    .dataframe thead th {\n",
       "        text-align: right;\n",
       "    }\n",
       "</style>\n",
       "<table border=\"1\" class=\"dataframe\">\n",
       "  <thead>\n",
       "    <tr style=\"text-align: right;\">\n",
       "      <th></th>\n",
       "      <th>patientid</th>\n",
       "      <th>appointmentid</th>\n",
       "      <th>gender</th>\n",
       "      <th>scheduled_day</th>\n",
       "      <th>appointment_day</th>\n",
       "      <th>age</th>\n",
       "      <th>neighbourhood</th>\n",
       "      <th>scholarship</th>\n",
       "      <th>hipertension</th>\n",
       "      <th>diabetes</th>\n",
       "      <th>alcoholism</th>\n",
       "      <th>handicap</th>\n",
       "      <th>sms_received</th>\n",
       "      <th>no_show</th>\n",
       "    </tr>\n",
       "  </thead>\n",
       "  <tbody>\n",
       "    <tr>\n",
       "      <th>99832</th>\n",
       "      <td>4.659432e+14</td>\n",
       "      <td>5775010</td>\n",
       "      <td>F</td>\n",
       "      <td>2016-06-06</td>\n",
       "      <td>2016-06-06</td>\n",
       "      <td>-1</td>\n",
       "      <td>ROMÃO</td>\n",
       "      <td>0</td>\n",
       "      <td>0</td>\n",
       "      <td>0</td>\n",
       "      <td>0</td>\n",
       "      <td>0</td>\n",
       "      <td>0</td>\n",
       "      <td>No</td>\n",
       "    </tr>\n",
       "  </tbody>\n",
       "</table>\n",
       "</div>"
      ],
      "text/plain": [
       "          patientid  appointmentid gender scheduled_day appointment_day  age  \\\n",
       "99832  4.659432e+14        5775010      F    2016-06-06      2016-06-06   -1   \n",
       "\n",
       "      neighbourhood  scholarship  hipertension  diabetes  alcoholism  \\\n",
       "99832         ROMÃO            0             0         0           0   \n",
       "\n",
       "       handicap  sms_received no_show  \n",
       "99832         0             0      No  "
      ]
     },
     "execution_count": 104,
     "metadata": {},
     "output_type": "execute_result"
    }
   ],
   "source": [
    "#checking all the negative values in the age column \n",
    "df.loc[df['age'] < 0]"
   ]
  },
  {
   "cell_type": "markdown",
   "metadata": {},
   "source": [
    "> The previous cell shows that there is only one record with negative age; as a result, this row will be dropped because it indicates this record was entered incorrectly."
   ]
  },
  {
   "cell_type": "code",
   "execution_count": 105,
   "metadata": {},
   "outputs": [],
   "source": [
    "# Droping the index 99832\n",
    "df.drop([99832], inplace=True)"
   ]
  },
  {
   "cell_type": "code",
   "execution_count": 106,
   "metadata": {},
   "outputs": [
    {
     "data": {
      "text/html": [
       "<div>\n",
       "<style scoped>\n",
       "    .dataframe tbody tr th:only-of-type {\n",
       "        vertical-align: middle;\n",
       "    }\n",
       "\n",
       "    .dataframe tbody tr th {\n",
       "        vertical-align: top;\n",
       "    }\n",
       "\n",
       "    .dataframe thead th {\n",
       "        text-align: right;\n",
       "    }\n",
       "</style>\n",
       "<table border=\"1\" class=\"dataframe\">\n",
       "  <thead>\n",
       "    <tr style=\"text-align: right;\">\n",
       "      <th></th>\n",
       "      <th>patientid</th>\n",
       "      <th>appointmentid</th>\n",
       "      <th>gender</th>\n",
       "      <th>scheduled_day</th>\n",
       "      <th>appointment_day</th>\n",
       "      <th>age</th>\n",
       "      <th>neighbourhood</th>\n",
       "      <th>scholarship</th>\n",
       "      <th>hipertension</th>\n",
       "      <th>diabetes</th>\n",
       "      <th>alcoholism</th>\n",
       "      <th>handicap</th>\n",
       "      <th>sms_received</th>\n",
       "      <th>no_show</th>\n",
       "    </tr>\n",
       "  </thead>\n",
       "  <tbody>\n",
       "    <tr>\n",
       "      <th>969</th>\n",
       "      <td>1.294694e+14</td>\n",
       "      <td>5588126</td>\n",
       "      <td>F</td>\n",
       "      <td>2016-04-15</td>\n",
       "      <td>2016-04-29</td>\n",
       "      <td>98</td>\n",
       "      <td>BONFIM</td>\n",
       "      <td>0</td>\n",
       "      <td>1</td>\n",
       "      <td>0</td>\n",
       "      <td>0</td>\n",
       "      <td>0</td>\n",
       "      <td>0</td>\n",
       "      <td>Yes</td>\n",
       "    </tr>\n",
       "    <tr>\n",
       "      <th>983</th>\n",
       "      <td>8.249688e+13</td>\n",
       "      <td>5520168</td>\n",
       "      <td>M</td>\n",
       "      <td>2016-03-29</td>\n",
       "      <td>2016-04-29</td>\n",
       "      <td>98</td>\n",
       "      <td>SÃO PEDRO</td>\n",
       "      <td>0</td>\n",
       "      <td>1</td>\n",
       "      <td>0</td>\n",
       "      <td>0</td>\n",
       "      <td>0</td>\n",
       "      <td>1</td>\n",
       "      <td>No</td>\n",
       "    </tr>\n",
       "    <tr>\n",
       "      <th>5401</th>\n",
       "      <td>3.518546e+11</td>\n",
       "      <td>5675430</td>\n",
       "      <td>M</td>\n",
       "      <td>2016-05-09</td>\n",
       "      <td>2016-05-11</td>\n",
       "      <td>96</td>\n",
       "      <td>JARDIM DA PENHA</td>\n",
       "      <td>0</td>\n",
       "      <td>0</td>\n",
       "      <td>0</td>\n",
       "      <td>0</td>\n",
       "      <td>0</td>\n",
       "      <td>0</td>\n",
       "      <td>No</td>\n",
       "    </tr>\n",
       "    <tr>\n",
       "      <th>9437</th>\n",
       "      <td>8.758612e+13</td>\n",
       "      <td>5692481</td>\n",
       "      <td>F</td>\n",
       "      <td>2016-05-12</td>\n",
       "      <td>2016-05-18</td>\n",
       "      <td>96</td>\n",
       "      <td>MARUÍPE</td>\n",
       "      <td>0</td>\n",
       "      <td>1</td>\n",
       "      <td>0</td>\n",
       "      <td>0</td>\n",
       "      <td>0</td>\n",
       "      <td>0</td>\n",
       "      <td>No</td>\n",
       "    </tr>\n",
       "    <tr>\n",
       "      <th>14176</th>\n",
       "      <td>1.882198e+11</td>\n",
       "      <td>5732443</td>\n",
       "      <td>F</td>\n",
       "      <td>2016-05-24</td>\n",
       "      <td>2016-05-24</td>\n",
       "      <td>96</td>\n",
       "      <td>JABOUR</td>\n",
       "      <td>0</td>\n",
       "      <td>0</td>\n",
       "      <td>0</td>\n",
       "      <td>0</td>\n",
       "      <td>0</td>\n",
       "      <td>0</td>\n",
       "      <td>No</td>\n",
       "    </tr>\n",
       "    <tr>\n",
       "      <th>14345</th>\n",
       "      <td>6.451675e+13</td>\n",
       "      <td>5721500</td>\n",
       "      <td>M</td>\n",
       "      <td>2016-05-19</td>\n",
       "      <td>2016-05-20</td>\n",
       "      <td>96</td>\n",
       "      <td>SANTO ANDRÉ</td>\n",
       "      <td>0</td>\n",
       "      <td>1</td>\n",
       "      <td>0</td>\n",
       "      <td>0</td>\n",
       "      <td>0</td>\n",
       "      <td>0</td>\n",
       "      <td>No</td>\n",
       "    </tr>\n",
       "    <tr>\n",
       "      <th>18317</th>\n",
       "      <td>5.659244e+14</td>\n",
       "      <td>5704081</td>\n",
       "      <td>F</td>\n",
       "      <td>2016-05-16</td>\n",
       "      <td>2016-05-16</td>\n",
       "      <td>97</td>\n",
       "      <td>PARQUE MOSCOSO</td>\n",
       "      <td>0</td>\n",
       "      <td>1</td>\n",
       "      <td>1</td>\n",
       "      <td>0</td>\n",
       "      <td>0</td>\n",
       "      <td>0</td>\n",
       "      <td>No</td>\n",
       "    </tr>\n",
       "    <tr>\n",
       "      <th>23389</th>\n",
       "      <td>3.794954e+13</td>\n",
       "      <td>5695368</td>\n",
       "      <td>F</td>\n",
       "      <td>2016-05-13</td>\n",
       "      <td>2016-05-13</td>\n",
       "      <td>96</td>\n",
       "      <td>CONSOLAÇÃO</td>\n",
       "      <td>0</td>\n",
       "      <td>1</td>\n",
       "      <td>0</td>\n",
       "      <td>0</td>\n",
       "      <td>1</td>\n",
       "      <td>0</td>\n",
       "      <td>No</td>\n",
       "    </tr>\n",
       "    <tr>\n",
       "      <th>24127</th>\n",
       "      <td>5.253828e+14</td>\n",
       "      <td>5682354</td>\n",
       "      <td>F</td>\n",
       "      <td>2016-05-10</td>\n",
       "      <td>2016-05-10</td>\n",
       "      <td>97</td>\n",
       "      <td>SANTA TEREZA</td>\n",
       "      <td>0</td>\n",
       "      <td>1</td>\n",
       "      <td>0</td>\n",
       "      <td>0</td>\n",
       "      <td>0</td>\n",
       "      <td>0</td>\n",
       "      <td>No</td>\n",
       "    </tr>\n",
       "    <tr>\n",
       "      <th>24129</th>\n",
       "      <td>5.234117e+14</td>\n",
       "      <td>5664305</td>\n",
       "      <td>F</td>\n",
       "      <td>2016-05-05</td>\n",
       "      <td>2016-05-05</td>\n",
       "      <td>96</td>\n",
       "      <td>DO QUADRO</td>\n",
       "      <td>0</td>\n",
       "      <td>1</td>\n",
       "      <td>0</td>\n",
       "      <td>0</td>\n",
       "      <td>0</td>\n",
       "      <td>0</td>\n",
       "      <td>No</td>\n",
       "    </tr>\n",
       "    <tr>\n",
       "      <th>30034</th>\n",
       "      <td>9.875974e+14</td>\n",
       "      <td>5664268</td>\n",
       "      <td>F</td>\n",
       "      <td>2016-05-05</td>\n",
       "      <td>2016-05-09</td>\n",
       "      <td>97</td>\n",
       "      <td>JARDIM CAMBURI</td>\n",
       "      <td>0</td>\n",
       "      <td>0</td>\n",
       "      <td>0</td>\n",
       "      <td>0</td>\n",
       "      <td>0</td>\n",
       "      <td>0</td>\n",
       "      <td>No</td>\n",
       "    </tr>\n",
       "    <tr>\n",
       "      <th>36941</th>\n",
       "      <td>2.126560e+12</td>\n",
       "      <td>5667297</td>\n",
       "      <td>F</td>\n",
       "      <td>2016-05-06</td>\n",
       "      <td>2016-05-09</td>\n",
       "      <td>96</td>\n",
       "      <td>CONQUISTA</td>\n",
       "      <td>0</td>\n",
       "      <td>1</td>\n",
       "      <td>0</td>\n",
       "      <td>0</td>\n",
       "      <td>0</td>\n",
       "      <td>0</td>\n",
       "      <td>No</td>\n",
       "    </tr>\n",
       "    <tr>\n",
       "      <th>38817</th>\n",
       "      <td>5.253828e+14</td>\n",
       "      <td>5620947</td>\n",
       "      <td>F</td>\n",
       "      <td>2016-04-26</td>\n",
       "      <td>2016-05-13</td>\n",
       "      <td>97</td>\n",
       "      <td>SANTA TEREZA</td>\n",
       "      <td>0</td>\n",
       "      <td>1</td>\n",
       "      <td>0</td>\n",
       "      <td>0</td>\n",
       "      <td>0</td>\n",
       "      <td>0</td>\n",
       "      <td>No</td>\n",
       "    </tr>\n",
       "    <tr>\n",
       "      <th>42991</th>\n",
       "      <td>1.857243e+11</td>\n",
       "      <td>5726341</td>\n",
       "      <td>F</td>\n",
       "      <td>2016-05-20</td>\n",
       "      <td>2016-05-20</td>\n",
       "      <td>96</td>\n",
       "      <td>SANTA TEREZA</td>\n",
       "      <td>0</td>\n",
       "      <td>0</td>\n",
       "      <td>0</td>\n",
       "      <td>0</td>\n",
       "      <td>0</td>\n",
       "      <td>0</td>\n",
       "      <td>No</td>\n",
       "    </tr>\n",
       "    <tr>\n",
       "      <th>46627</th>\n",
       "      <td>1.294694e+14</td>\n",
       "      <td>5588547</td>\n",
       "      <td>F</td>\n",
       "      <td>2016-04-15</td>\n",
       "      <td>2016-05-06</td>\n",
       "      <td>98</td>\n",
       "      <td>BONFIM</td>\n",
       "      <td>0</td>\n",
       "      <td>1</td>\n",
       "      <td>0</td>\n",
       "      <td>0</td>\n",
       "      <td>0</td>\n",
       "      <td>0</td>\n",
       "      <td>No</td>\n",
       "    </tr>\n",
       "    <tr>\n",
       "      <th>46802</th>\n",
       "      <td>8.117718e+13</td>\n",
       "      <td>5343126</td>\n",
       "      <td>F</td>\n",
       "      <td>2016-02-12</td>\n",
       "      <td>2016-05-12</td>\n",
       "      <td>98</td>\n",
       "      <td>DO QUADRO</td>\n",
       "      <td>0</td>\n",
       "      <td>1</td>\n",
       "      <td>1</td>\n",
       "      <td>0</td>\n",
       "      <td>0</td>\n",
       "      <td>1</td>\n",
       "      <td>No</td>\n",
       "    </tr>\n",
       "    <tr>\n",
       "      <th>48629</th>\n",
       "      <td>8.666259e+14</td>\n",
       "      <td>5620788</td>\n",
       "      <td>F</td>\n",
       "      <td>2016-04-26</td>\n",
       "      <td>2016-05-12</td>\n",
       "      <td>97</td>\n",
       "      <td>JARDIM DA PENHA</td>\n",
       "      <td>0</td>\n",
       "      <td>1</td>\n",
       "      <td>0</td>\n",
       "      <td>0</td>\n",
       "      <td>0</td>\n",
       "      <td>0</td>\n",
       "      <td>No</td>\n",
       "    </tr>\n",
       "    <tr>\n",
       "      <th>49081</th>\n",
       "      <td>3.518546e+11</td>\n",
       "      <td>5711194</td>\n",
       "      <td>M</td>\n",
       "      <td>2016-05-18</td>\n",
       "      <td>2016-05-18</td>\n",
       "      <td>96</td>\n",
       "      <td>JARDIM DA PENHA</td>\n",
       "      <td>0</td>\n",
       "      <td>0</td>\n",
       "      <td>0</td>\n",
       "      <td>0</td>\n",
       "      <td>0</td>\n",
       "      <td>0</td>\n",
       "      <td>No</td>\n",
       "    </tr>\n",
       "    <tr>\n",
       "      <th>56182</th>\n",
       "      <td>9.554642e+13</td>\n",
       "      <td>5686268</td>\n",
       "      <td>M</td>\n",
       "      <td>2016-05-11</td>\n",
       "      <td>2016-05-11</td>\n",
       "      <td>96</td>\n",
       "      <td>MATA DA PRAIA</td>\n",
       "      <td>0</td>\n",
       "      <td>1</td>\n",
       "      <td>0</td>\n",
       "      <td>0</td>\n",
       "      <td>0</td>\n",
       "      <td>0</td>\n",
       "      <td>No</td>\n",
       "    </tr>\n",
       "    <tr>\n",
       "      <th>58014</th>\n",
       "      <td>9.762948e+14</td>\n",
       "      <td>5651757</td>\n",
       "      <td>F</td>\n",
       "      <td>2016-05-03</td>\n",
       "      <td>2016-05-03</td>\n",
       "      <td>102</td>\n",
       "      <td>CONQUISTA</td>\n",
       "      <td>0</td>\n",
       "      <td>0</td>\n",
       "      <td>0</td>\n",
       "      <td>0</td>\n",
       "      <td>0</td>\n",
       "      <td>0</td>\n",
       "      <td>No</td>\n",
       "    </tr>\n",
       "    <tr>\n",
       "      <th>63912</th>\n",
       "      <td>3.196321e+13</td>\n",
       "      <td>5700278</td>\n",
       "      <td>F</td>\n",
       "      <td>2016-05-16</td>\n",
       "      <td>2016-05-19</td>\n",
       "      <td>115</td>\n",
       "      <td>ANDORINHAS</td>\n",
       "      <td>0</td>\n",
       "      <td>0</td>\n",
       "      <td>0</td>\n",
       "      <td>0</td>\n",
       "      <td>1</td>\n",
       "      <td>0</td>\n",
       "      <td>Yes</td>\n",
       "    </tr>\n",
       "    <tr>\n",
       "      <th>63915</th>\n",
       "      <td>3.196321e+13</td>\n",
       "      <td>5700279</td>\n",
       "      <td>F</td>\n",
       "      <td>2016-05-16</td>\n",
       "      <td>2016-05-19</td>\n",
       "      <td>115</td>\n",
       "      <td>ANDORINHAS</td>\n",
       "      <td>0</td>\n",
       "      <td>0</td>\n",
       "      <td>0</td>\n",
       "      <td>0</td>\n",
       "      <td>1</td>\n",
       "      <td>0</td>\n",
       "      <td>Yes</td>\n",
       "    </tr>\n",
       "    <tr>\n",
       "      <th>66615</th>\n",
       "      <td>2.312480e+13</td>\n",
       "      <td>5421357</td>\n",
       "      <td>M</td>\n",
       "      <td>2016-03-02</td>\n",
       "      <td>2016-05-16</td>\n",
       "      <td>97</td>\n",
       "      <td>JARDIM CAMBURI</td>\n",
       "      <td>0</td>\n",
       "      <td>0</td>\n",
       "      <td>0</td>\n",
       "      <td>0</td>\n",
       "      <td>0</td>\n",
       "      <td>0</td>\n",
       "      <td>No</td>\n",
       "    </tr>\n",
       "    <tr>\n",
       "      <th>68127</th>\n",
       "      <td>3.196321e+13</td>\n",
       "      <td>5562812</td>\n",
       "      <td>F</td>\n",
       "      <td>2016-04-08</td>\n",
       "      <td>2016-05-16</td>\n",
       "      <td>115</td>\n",
       "      <td>ANDORINHAS</td>\n",
       "      <td>0</td>\n",
       "      <td>0</td>\n",
       "      <td>0</td>\n",
       "      <td>0</td>\n",
       "      <td>1</td>\n",
       "      <td>0</td>\n",
       "      <td>Yes</td>\n",
       "    </tr>\n",
       "    <tr>\n",
       "      <th>69927</th>\n",
       "      <td>1.294694e+14</td>\n",
       "      <td>5588573</td>\n",
       "      <td>F</td>\n",
       "      <td>2016-04-15</td>\n",
       "      <td>2016-05-06</td>\n",
       "      <td>98</td>\n",
       "      <td>BONFIM</td>\n",
       "      <td>0</td>\n",
       "      <td>1</td>\n",
       "      <td>0</td>\n",
       "      <td>0</td>\n",
       "      <td>0</td>\n",
       "      <td>0</td>\n",
       "      <td>No</td>\n",
       "    </tr>\n",
       "    <tr>\n",
       "      <th>71265</th>\n",
       "      <td>7.374252e+12</td>\n",
       "      <td>5418505</td>\n",
       "      <td>F</td>\n",
       "      <td>2016-03-02</td>\n",
       "      <td>2016-05-10</td>\n",
       "      <td>96</td>\n",
       "      <td>FONTE GRANDE</td>\n",
       "      <td>0</td>\n",
       "      <td>1</td>\n",
       "      <td>0</td>\n",
       "      <td>0</td>\n",
       "      <td>0</td>\n",
       "      <td>0</td>\n",
       "      <td>Yes</td>\n",
       "    </tr>\n",
       "    <tr>\n",
       "      <th>74224</th>\n",
       "      <td>9.266250e+14</td>\n",
       "      <td>5678459</td>\n",
       "      <td>F</td>\n",
       "      <td>2016-05-10</td>\n",
       "      <td>2016-05-10</td>\n",
       "      <td>97</td>\n",
       "      <td>BONFIM</td>\n",
       "      <td>0</td>\n",
       "      <td>1</td>\n",
       "      <td>0</td>\n",
       "      <td>0</td>\n",
       "      <td>0</td>\n",
       "      <td>0</td>\n",
       "      <td>Yes</td>\n",
       "    </tr>\n",
       "    <tr>\n",
       "      <th>74426</th>\n",
       "      <td>9.875974e+14</td>\n",
       "      <td>5695889</td>\n",
       "      <td>F</td>\n",
       "      <td>2016-05-13</td>\n",
       "      <td>2016-05-17</td>\n",
       "      <td>97</td>\n",
       "      <td>JARDIM CAMBURI</td>\n",
       "      <td>0</td>\n",
       "      <td>0</td>\n",
       "      <td>0</td>\n",
       "      <td>0</td>\n",
       "      <td>0</td>\n",
       "      <td>0</td>\n",
       "      <td>No</td>\n",
       "    </tr>\n",
       "    <tr>\n",
       "      <th>76284</th>\n",
       "      <td>3.196321e+13</td>\n",
       "      <td>5744037</td>\n",
       "      <td>F</td>\n",
       "      <td>2016-05-30</td>\n",
       "      <td>2016-05-30</td>\n",
       "      <td>115</td>\n",
       "      <td>ANDORINHAS</td>\n",
       "      <td>0</td>\n",
       "      <td>0</td>\n",
       "      <td>0</td>\n",
       "      <td>0</td>\n",
       "      <td>1</td>\n",
       "      <td>0</td>\n",
       "      <td>No</td>\n",
       "    </tr>\n",
       "    <tr>\n",
       "      <th>79270</th>\n",
       "      <td>9.739430e+12</td>\n",
       "      <td>5747809</td>\n",
       "      <td>M</td>\n",
       "      <td>2016-05-30</td>\n",
       "      <td>2016-05-31</td>\n",
       "      <td>100</td>\n",
       "      <td>TABUAZEIRO</td>\n",
       "      <td>0</td>\n",
       "      <td>0</td>\n",
       "      <td>0</td>\n",
       "      <td>0</td>\n",
       "      <td>1</td>\n",
       "      <td>0</td>\n",
       "      <td>No</td>\n",
       "    </tr>\n",
       "    <tr>\n",
       "      <th>79272</th>\n",
       "      <td>9.739430e+12</td>\n",
       "      <td>5747808</td>\n",
       "      <td>M</td>\n",
       "      <td>2016-05-30</td>\n",
       "      <td>2016-05-31</td>\n",
       "      <td>100</td>\n",
       "      <td>TABUAZEIRO</td>\n",
       "      <td>0</td>\n",
       "      <td>0</td>\n",
       "      <td>0</td>\n",
       "      <td>0</td>\n",
       "      <td>1</td>\n",
       "      <td>0</td>\n",
       "      <td>No</td>\n",
       "    </tr>\n",
       "    <tr>\n",
       "      <th>86359</th>\n",
       "      <td>5.932344e+11</td>\n",
       "      <td>5765223</td>\n",
       "      <td>F</td>\n",
       "      <td>2016-06-02</td>\n",
       "      <td>2016-06-02</td>\n",
       "      <td>96</td>\n",
       "      <td>SANTO ANTÔNIO</td>\n",
       "      <td>0</td>\n",
       "      <td>1</td>\n",
       "      <td>1</td>\n",
       "      <td>0</td>\n",
       "      <td>0</td>\n",
       "      <td>0</td>\n",
       "      <td>No</td>\n",
       "    </tr>\n",
       "    <tr>\n",
       "      <th>86769</th>\n",
       "      <td>6.451758e+13</td>\n",
       "      <td>5760942</td>\n",
       "      <td>F</td>\n",
       "      <td>2016-06-01</td>\n",
       "      <td>2016-06-01</td>\n",
       "      <td>96</td>\n",
       "      <td>CARATOÍRA</td>\n",
       "      <td>0</td>\n",
       "      <td>0</td>\n",
       "      <td>1</td>\n",
       "      <td>0</td>\n",
       "      <td>0</td>\n",
       "      <td>0</td>\n",
       "      <td>No</td>\n",
       "    </tr>\n",
       "    <tr>\n",
       "      <th>86781</th>\n",
       "      <td>8.351900e+13</td>\n",
       "      <td>5757585</td>\n",
       "      <td>F</td>\n",
       "      <td>2016-06-01</td>\n",
       "      <td>2016-06-01</td>\n",
       "      <td>97</td>\n",
       "      <td>CENTRO</td>\n",
       "      <td>0</td>\n",
       "      <td>1</td>\n",
       "      <td>0</td>\n",
       "      <td>0</td>\n",
       "      <td>0</td>\n",
       "      <td>0</td>\n",
       "      <td>No</td>\n",
       "    </tr>\n",
       "    <tr>\n",
       "      <th>87279</th>\n",
       "      <td>2.314825e+13</td>\n",
       "      <td>5756601</td>\n",
       "      <td>F</td>\n",
       "      <td>2016-06-01</td>\n",
       "      <td>2016-06-01</td>\n",
       "      <td>96</td>\n",
       "      <td>SANTA MARTHA</td>\n",
       "      <td>0</td>\n",
       "      <td>1</td>\n",
       "      <td>0</td>\n",
       "      <td>0</td>\n",
       "      <td>0</td>\n",
       "      <td>0</td>\n",
       "      <td>No</td>\n",
       "    </tr>\n",
       "    <tr>\n",
       "      <th>87282</th>\n",
       "      <td>7.492595e+11</td>\n",
       "      <td>5756594</td>\n",
       "      <td>F</td>\n",
       "      <td>2016-06-01</td>\n",
       "      <td>2016-06-01</td>\n",
       "      <td>98</td>\n",
       "      <td>SANTA MARTHA</td>\n",
       "      <td>0</td>\n",
       "      <td>1</td>\n",
       "      <td>1</td>\n",
       "      <td>0</td>\n",
       "      <td>0</td>\n",
       "      <td>0</td>\n",
       "      <td>No</td>\n",
       "    </tr>\n",
       "    <tr>\n",
       "      <th>90372</th>\n",
       "      <td>2.342836e+11</td>\n",
       "      <td>5751563</td>\n",
       "      <td>F</td>\n",
       "      <td>2016-05-31</td>\n",
       "      <td>2016-06-02</td>\n",
       "      <td>102</td>\n",
       "      <td>MARIA ORTIZ</td>\n",
       "      <td>0</td>\n",
       "      <td>0</td>\n",
       "      <td>0</td>\n",
       "      <td>0</td>\n",
       "      <td>0</td>\n",
       "      <td>0</td>\n",
       "      <td>No</td>\n",
       "    </tr>\n",
       "    <tr>\n",
       "      <th>92084</th>\n",
       "      <td>5.578313e+13</td>\n",
       "      <td>5670914</td>\n",
       "      <td>F</td>\n",
       "      <td>2016-05-06</td>\n",
       "      <td>2016-06-03</td>\n",
       "      <td>100</td>\n",
       "      <td>ANTÔNIO HONÓRIO</td>\n",
       "      <td>0</td>\n",
       "      <td>0</td>\n",
       "      <td>0</td>\n",
       "      <td>0</td>\n",
       "      <td>0</td>\n",
       "      <td>1</td>\n",
       "      <td>No</td>\n",
       "    </tr>\n",
       "    <tr>\n",
       "      <th>96052</th>\n",
       "      <td>7.374252e+12</td>\n",
       "      <td>5770388</td>\n",
       "      <td>F</td>\n",
       "      <td>2016-06-03</td>\n",
       "      <td>2016-06-03</td>\n",
       "      <td>96</td>\n",
       "      <td>FONTE GRANDE</td>\n",
       "      <td>0</td>\n",
       "      <td>1</td>\n",
       "      <td>0</td>\n",
       "      <td>0</td>\n",
       "      <td>0</td>\n",
       "      <td>0</td>\n",
       "      <td>No</td>\n",
       "    </tr>\n",
       "    <tr>\n",
       "      <th>96831</th>\n",
       "      <td>1.193419e+12</td>\n",
       "      <td>5720593</td>\n",
       "      <td>F</td>\n",
       "      <td>2016-05-19</td>\n",
       "      <td>2016-06-02</td>\n",
       "      <td>97</td>\n",
       "      <td>MARUÍPE</td>\n",
       "      <td>0</td>\n",
       "      <td>1</td>\n",
       "      <td>0</td>\n",
       "      <td>0</td>\n",
       "      <td>2</td>\n",
       "      <td>0</td>\n",
       "      <td>No</td>\n",
       "    </tr>\n",
       "    <tr>\n",
       "      <th>97647</th>\n",
       "      <td>3.661577e+10</td>\n",
       "      <td>5775674</td>\n",
       "      <td>F</td>\n",
       "      <td>2016-06-06</td>\n",
       "      <td>2016-06-06</td>\n",
       "      <td>99</td>\n",
       "      <td>SANTO ANTÔNIO</td>\n",
       "      <td>0</td>\n",
       "      <td>1</td>\n",
       "      <td>1</td>\n",
       "      <td>0</td>\n",
       "      <td>0</td>\n",
       "      <td>0</td>\n",
       "      <td>No</td>\n",
       "    </tr>\n",
       "    <tr>\n",
       "      <th>97666</th>\n",
       "      <td>7.482346e+14</td>\n",
       "      <td>5717451</td>\n",
       "      <td>F</td>\n",
       "      <td>2016-05-19</td>\n",
       "      <td>2016-06-03</td>\n",
       "      <td>115</td>\n",
       "      <td>SÃO JOSÉ</td>\n",
       "      <td>0</td>\n",
       "      <td>1</td>\n",
       "      <td>0</td>\n",
       "      <td>0</td>\n",
       "      <td>0</td>\n",
       "      <td>1</td>\n",
       "      <td>No</td>\n",
       "    </tr>\n",
       "    <tr>\n",
       "      <th>99437</th>\n",
       "      <td>5.234117e+14</td>\n",
       "      <td>5770394</td>\n",
       "      <td>F</td>\n",
       "      <td>2016-06-03</td>\n",
       "      <td>2016-06-03</td>\n",
       "      <td>96</td>\n",
       "      <td>DO QUADRO</td>\n",
       "      <td>0</td>\n",
       "      <td>1</td>\n",
       "      <td>0</td>\n",
       "      <td>0</td>\n",
       "      <td>0</td>\n",
       "      <td>0</td>\n",
       "      <td>No</td>\n",
       "    </tr>\n",
       "    <tr>\n",
       "      <th>104807</th>\n",
       "      <td>4.758514e+13</td>\n",
       "      <td>5784948</td>\n",
       "      <td>F</td>\n",
       "      <td>2016-06-07</td>\n",
       "      <td>2016-06-07</td>\n",
       "      <td>96</td>\n",
       "      <td>SANTO ANTÔNIO</td>\n",
       "      <td>0</td>\n",
       "      <td>1</td>\n",
       "      <td>0</td>\n",
       "      <td>0</td>\n",
       "      <td>1</td>\n",
       "      <td>0</td>\n",
       "      <td>No</td>\n",
       "    </tr>\n",
       "    <tr>\n",
       "      <th>106170</th>\n",
       "      <td>5.333970e+12</td>\n",
       "      <td>5775639</td>\n",
       "      <td>M</td>\n",
       "      <td>2016-06-06</td>\n",
       "      <td>2016-06-06</td>\n",
       "      <td>97</td>\n",
       "      <td>ARIOVALDO FAVALESSA</td>\n",
       "      <td>0</td>\n",
       "      <td>1</td>\n",
       "      <td>0</td>\n",
       "      <td>0</td>\n",
       "      <td>0</td>\n",
       "      <td>0</td>\n",
       "      <td>Yes</td>\n",
       "    </tr>\n",
       "    <tr>\n",
       "      <th>108506</th>\n",
       "      <td>3.939642e+11</td>\n",
       "      <td>5721152</td>\n",
       "      <td>F</td>\n",
       "      <td>2016-05-19</td>\n",
       "      <td>2016-06-01</td>\n",
       "      <td>100</td>\n",
       "      <td>MARUÍPE</td>\n",
       "      <td>0</td>\n",
       "      <td>0</td>\n",
       "      <td>0</td>\n",
       "      <td>0</td>\n",
       "      <td>0</td>\n",
       "      <td>0</td>\n",
       "      <td>No</td>\n",
       "    </tr>\n",
       "  </tbody>\n",
       "</table>\n",
       "</div>"
      ],
      "text/plain": [
       "           patientid  appointmentid gender scheduled_day appointment_day  age  \\\n",
       "969     1.294694e+14        5588126      F    2016-04-15      2016-04-29   98   \n",
       "983     8.249688e+13        5520168      M    2016-03-29      2016-04-29   98   \n",
       "5401    3.518546e+11        5675430      M    2016-05-09      2016-05-11   96   \n",
       "9437    8.758612e+13        5692481      F    2016-05-12      2016-05-18   96   \n",
       "14176   1.882198e+11        5732443      F    2016-05-24      2016-05-24   96   \n",
       "14345   6.451675e+13        5721500      M    2016-05-19      2016-05-20   96   \n",
       "18317   5.659244e+14        5704081      F    2016-05-16      2016-05-16   97   \n",
       "23389   3.794954e+13        5695368      F    2016-05-13      2016-05-13   96   \n",
       "24127   5.253828e+14        5682354      F    2016-05-10      2016-05-10   97   \n",
       "24129   5.234117e+14        5664305      F    2016-05-05      2016-05-05   96   \n",
       "30034   9.875974e+14        5664268      F    2016-05-05      2016-05-09   97   \n",
       "36941   2.126560e+12        5667297      F    2016-05-06      2016-05-09   96   \n",
       "38817   5.253828e+14        5620947      F    2016-04-26      2016-05-13   97   \n",
       "42991   1.857243e+11        5726341      F    2016-05-20      2016-05-20   96   \n",
       "46627   1.294694e+14        5588547      F    2016-04-15      2016-05-06   98   \n",
       "46802   8.117718e+13        5343126      F    2016-02-12      2016-05-12   98   \n",
       "48629   8.666259e+14        5620788      F    2016-04-26      2016-05-12   97   \n",
       "49081   3.518546e+11        5711194      M    2016-05-18      2016-05-18   96   \n",
       "56182   9.554642e+13        5686268      M    2016-05-11      2016-05-11   96   \n",
       "58014   9.762948e+14        5651757      F    2016-05-03      2016-05-03  102   \n",
       "63912   3.196321e+13        5700278      F    2016-05-16      2016-05-19  115   \n",
       "63915   3.196321e+13        5700279      F    2016-05-16      2016-05-19  115   \n",
       "66615   2.312480e+13        5421357      M    2016-03-02      2016-05-16   97   \n",
       "68127   3.196321e+13        5562812      F    2016-04-08      2016-05-16  115   \n",
       "69927   1.294694e+14        5588573      F    2016-04-15      2016-05-06   98   \n",
       "71265   7.374252e+12        5418505      F    2016-03-02      2016-05-10   96   \n",
       "74224   9.266250e+14        5678459      F    2016-05-10      2016-05-10   97   \n",
       "74426   9.875974e+14        5695889      F    2016-05-13      2016-05-17   97   \n",
       "76284   3.196321e+13        5744037      F    2016-05-30      2016-05-30  115   \n",
       "79270   9.739430e+12        5747809      M    2016-05-30      2016-05-31  100   \n",
       "79272   9.739430e+12        5747808      M    2016-05-30      2016-05-31  100   \n",
       "86359   5.932344e+11        5765223      F    2016-06-02      2016-06-02   96   \n",
       "86769   6.451758e+13        5760942      F    2016-06-01      2016-06-01   96   \n",
       "86781   8.351900e+13        5757585      F    2016-06-01      2016-06-01   97   \n",
       "87279   2.314825e+13        5756601      F    2016-06-01      2016-06-01   96   \n",
       "87282   7.492595e+11        5756594      F    2016-06-01      2016-06-01   98   \n",
       "90372   2.342836e+11        5751563      F    2016-05-31      2016-06-02  102   \n",
       "92084   5.578313e+13        5670914      F    2016-05-06      2016-06-03  100   \n",
       "96052   7.374252e+12        5770388      F    2016-06-03      2016-06-03   96   \n",
       "96831   1.193419e+12        5720593      F    2016-05-19      2016-06-02   97   \n",
       "97647   3.661577e+10        5775674      F    2016-06-06      2016-06-06   99   \n",
       "97666   7.482346e+14        5717451      F    2016-05-19      2016-06-03  115   \n",
       "99437   5.234117e+14        5770394      F    2016-06-03      2016-06-03   96   \n",
       "104807  4.758514e+13        5784948      F    2016-06-07      2016-06-07   96   \n",
       "106170  5.333970e+12        5775639      M    2016-06-06      2016-06-06   97   \n",
       "108506  3.939642e+11        5721152      F    2016-05-19      2016-06-01  100   \n",
       "\n",
       "              neighbourhood  scholarship  hipertension  diabetes  alcoholism  \\\n",
       "969                  BONFIM            0             1         0           0   \n",
       "983               SÃO PEDRO            0             1         0           0   \n",
       "5401        JARDIM DA PENHA            0             0         0           0   \n",
       "9437                MARUÍPE            0             1         0           0   \n",
       "14176                JABOUR            0             0         0           0   \n",
       "14345           SANTO ANDRÉ            0             1         0           0   \n",
       "18317        PARQUE MOSCOSO            0             1         1           0   \n",
       "23389            CONSOLAÇÃO            0             1         0           0   \n",
       "24127          SANTA TEREZA            0             1         0           0   \n",
       "24129             DO QUADRO            0             1         0           0   \n",
       "30034        JARDIM CAMBURI            0             0         0           0   \n",
       "36941             CONQUISTA            0             1         0           0   \n",
       "38817          SANTA TEREZA            0             1         0           0   \n",
       "42991          SANTA TEREZA            0             0         0           0   \n",
       "46627                BONFIM            0             1         0           0   \n",
       "46802             DO QUADRO            0             1         1           0   \n",
       "48629       JARDIM DA PENHA            0             1         0           0   \n",
       "49081       JARDIM DA PENHA            0             0         0           0   \n",
       "56182         MATA DA PRAIA            0             1         0           0   \n",
       "58014             CONQUISTA            0             0         0           0   \n",
       "63912            ANDORINHAS            0             0         0           0   \n",
       "63915            ANDORINHAS            0             0         0           0   \n",
       "66615        JARDIM CAMBURI            0             0         0           0   \n",
       "68127            ANDORINHAS            0             0         0           0   \n",
       "69927                BONFIM            0             1         0           0   \n",
       "71265          FONTE GRANDE            0             1         0           0   \n",
       "74224                BONFIM            0             1         0           0   \n",
       "74426        JARDIM CAMBURI            0             0         0           0   \n",
       "76284            ANDORINHAS            0             0         0           0   \n",
       "79270            TABUAZEIRO            0             0         0           0   \n",
       "79272            TABUAZEIRO            0             0         0           0   \n",
       "86359         SANTO ANTÔNIO            0             1         1           0   \n",
       "86769             CARATOÍRA            0             0         1           0   \n",
       "86781                CENTRO            0             1         0           0   \n",
       "87279          SANTA MARTHA            0             1         0           0   \n",
       "87282          SANTA MARTHA            0             1         1           0   \n",
       "90372           MARIA ORTIZ            0             0         0           0   \n",
       "92084       ANTÔNIO HONÓRIO            0             0         0           0   \n",
       "96052          FONTE GRANDE            0             1         0           0   \n",
       "96831               MARUÍPE            0             1         0           0   \n",
       "97647         SANTO ANTÔNIO            0             1         1           0   \n",
       "97666              SÃO JOSÉ            0             1         0           0   \n",
       "99437             DO QUADRO            0             1         0           0   \n",
       "104807        SANTO ANTÔNIO            0             1         0           0   \n",
       "106170  ARIOVALDO FAVALESSA            0             1         0           0   \n",
       "108506              MARUÍPE            0             0         0           0   \n",
       "\n",
       "        handicap  sms_received no_show  \n",
       "969            0             0     Yes  \n",
       "983            0             1      No  \n",
       "5401           0             0      No  \n",
       "9437           0             0      No  \n",
       "14176          0             0      No  \n",
       "14345          0             0      No  \n",
       "18317          0             0      No  \n",
       "23389          1             0      No  \n",
       "24127          0             0      No  \n",
       "24129          0             0      No  \n",
       "30034          0             0      No  \n",
       "36941          0             0      No  \n",
       "38817          0             0      No  \n",
       "42991          0             0      No  \n",
       "46627          0             0      No  \n",
       "46802          0             1      No  \n",
       "48629          0             0      No  \n",
       "49081          0             0      No  \n",
       "56182          0             0      No  \n",
       "58014          0             0      No  \n",
       "63912          1             0     Yes  \n",
       "63915          1             0     Yes  \n",
       "66615          0             0      No  \n",
       "68127          1             0     Yes  \n",
       "69927          0             0      No  \n",
       "71265          0             0     Yes  \n",
       "74224          0             0     Yes  \n",
       "74426          0             0      No  \n",
       "76284          1             0      No  \n",
       "79270          1             0      No  \n",
       "79272          1             0      No  \n",
       "86359          0             0      No  \n",
       "86769          0             0      No  \n",
       "86781          0             0      No  \n",
       "87279          0             0      No  \n",
       "87282          0             0      No  \n",
       "90372          0             0      No  \n",
       "92084          0             1      No  \n",
       "96052          0             0      No  \n",
       "96831          2             0      No  \n",
       "97647          0             0      No  \n",
       "97666          0             1      No  \n",
       "99437          0             0      No  \n",
       "104807         1             0      No  \n",
       "106170         0             0     Yes  \n",
       "108506         0             0      No  "
      ]
     },
     "execution_count": 106,
     "metadata": {},
     "output_type": "execute_result"
    }
   ],
   "source": [
    "# Checking ages > 95 values in the age column \n",
    "df.loc[df['age'] > 95]"
   ]
  },
  {
   "cell_type": "markdown",
   "metadata": {},
   "source": [
    "> There is more than one record for people over 95 and 100, and some of the records are repeated for the same patient. In this case, the data will not be considered as mistakes because some rare people may live to over 100.\n",
    "\n",
    ">[Reference2](https://www.cnbc.com/2020/07/29/people-who-live-100-longer-share-this-hobby-longevity-experts-say-it-can-add-years-to-life.html)"
   ]
  },
  {
   "cell_type": "code",
   "execution_count": 107,
   "metadata": {},
   "outputs": [
    {
     "data": {
      "text/html": [
       "<div>\n",
       "<style scoped>\n",
       "    .dataframe tbody tr th:only-of-type {\n",
       "        vertical-align: middle;\n",
       "    }\n",
       "\n",
       "    .dataframe tbody tr th {\n",
       "        vertical-align: top;\n",
       "    }\n",
       "\n",
       "    .dataframe thead th {\n",
       "        text-align: right;\n",
       "    }\n",
       "</style>\n",
       "<table border=\"1\" class=\"dataframe\">\n",
       "  <thead>\n",
       "    <tr style=\"text-align: right;\">\n",
       "      <th></th>\n",
       "      <th>patientid</th>\n",
       "      <th>appointmentid</th>\n",
       "      <th>gender</th>\n",
       "      <th>scheduled_day</th>\n",
       "      <th>appointment_day</th>\n",
       "      <th>age</th>\n",
       "      <th>neighbourhood</th>\n",
       "      <th>scholarship</th>\n",
       "      <th>hipertension</th>\n",
       "      <th>diabetes</th>\n",
       "      <th>alcoholism</th>\n",
       "      <th>handicap</th>\n",
       "      <th>sms_received</th>\n",
       "      <th>no_show</th>\n",
       "    </tr>\n",
       "  </thead>\n",
       "  <tbody>\n",
       "    <tr>\n",
       "      <th>59</th>\n",
       "      <td>7.184428e+13</td>\n",
       "      <td>5638545</td>\n",
       "      <td>F</td>\n",
       "      <td>2016-04-29</td>\n",
       "      <td>2016-04-29</td>\n",
       "      <td>0</td>\n",
       "      <td>CONQUISTA</td>\n",
       "      <td>0</td>\n",
       "      <td>0</td>\n",
       "      <td>0</td>\n",
       "      <td>0</td>\n",
       "      <td>0</td>\n",
       "      <td>0</td>\n",
       "      <td>No</td>\n",
       "    </tr>\n",
       "    <tr>\n",
       "      <th>63</th>\n",
       "      <td>2.366233e+14</td>\n",
       "      <td>5628286</td>\n",
       "      <td>M</td>\n",
       "      <td>2016-04-27</td>\n",
       "      <td>2016-04-29</td>\n",
       "      <td>0</td>\n",
       "      <td>SÃO BENEDITO</td>\n",
       "      <td>0</td>\n",
       "      <td>0</td>\n",
       "      <td>0</td>\n",
       "      <td>0</td>\n",
       "      <td>0</td>\n",
       "      <td>0</td>\n",
       "      <td>No</td>\n",
       "    </tr>\n",
       "    <tr>\n",
       "      <th>64</th>\n",
       "      <td>1.885174e+14</td>\n",
       "      <td>5616082</td>\n",
       "      <td>M</td>\n",
       "      <td>2016-04-25</td>\n",
       "      <td>2016-04-29</td>\n",
       "      <td>0</td>\n",
       "      <td>ILHA DAS CAIEIRAS</td>\n",
       "      <td>0</td>\n",
       "      <td>0</td>\n",
       "      <td>0</td>\n",
       "      <td>0</td>\n",
       "      <td>0</td>\n",
       "      <td>1</td>\n",
       "      <td>No</td>\n",
       "    </tr>\n",
       "    <tr>\n",
       "      <th>65</th>\n",
       "      <td>2.718818e+14</td>\n",
       "      <td>5628321</td>\n",
       "      <td>M</td>\n",
       "      <td>2016-04-27</td>\n",
       "      <td>2016-04-29</td>\n",
       "      <td>0</td>\n",
       "      <td>CONQUISTA</td>\n",
       "      <td>0</td>\n",
       "      <td>0</td>\n",
       "      <td>0</td>\n",
       "      <td>0</td>\n",
       "      <td>0</td>\n",
       "      <td>0</td>\n",
       "      <td>No</td>\n",
       "    </tr>\n",
       "    <tr>\n",
       "      <th>67</th>\n",
       "      <td>8.647128e+13</td>\n",
       "      <td>5639264</td>\n",
       "      <td>F</td>\n",
       "      <td>2016-04-29</td>\n",
       "      <td>2016-04-29</td>\n",
       "      <td>0</td>\n",
       "      <td>NOVA PALESTINA</td>\n",
       "      <td>0</td>\n",
       "      <td>0</td>\n",
       "      <td>0</td>\n",
       "      <td>0</td>\n",
       "      <td>0</td>\n",
       "      <td>0</td>\n",
       "      <td>No</td>\n",
       "    </tr>\n",
       "    <tr>\n",
       "      <th>...</th>\n",
       "      <td>...</td>\n",
       "      <td>...</td>\n",
       "      <td>...</td>\n",
       "      <td>...</td>\n",
       "      <td>...</td>\n",
       "      <td>...</td>\n",
       "      <td>...</td>\n",
       "      <td>...</td>\n",
       "      <td>...</td>\n",
       "      <td>...</td>\n",
       "      <td>...</td>\n",
       "      <td>...</td>\n",
       "      <td>...</td>\n",
       "      <td>...</td>\n",
       "    </tr>\n",
       "    <tr>\n",
       "      <th>110345</th>\n",
       "      <td>1.473952e+14</td>\n",
       "      <td>5702537</td>\n",
       "      <td>F</td>\n",
       "      <td>2016-05-16</td>\n",
       "      <td>2016-06-01</td>\n",
       "      <td>0</td>\n",
       "      <td>RESISTÊNCIA</td>\n",
       "      <td>0</td>\n",
       "      <td>0</td>\n",
       "      <td>0</td>\n",
       "      <td>0</td>\n",
       "      <td>0</td>\n",
       "      <td>0</td>\n",
       "      <td>No</td>\n",
       "    </tr>\n",
       "    <tr>\n",
       "      <th>110346</th>\n",
       "      <td>5.577525e+12</td>\n",
       "      <td>5777724</td>\n",
       "      <td>M</td>\n",
       "      <td>2016-06-06</td>\n",
       "      <td>2016-06-08</td>\n",
       "      <td>0</td>\n",
       "      <td>RESISTÊNCIA</td>\n",
       "      <td>0</td>\n",
       "      <td>0</td>\n",
       "      <td>0</td>\n",
       "      <td>0</td>\n",
       "      <td>0</td>\n",
       "      <td>0</td>\n",
       "      <td>No</td>\n",
       "    </tr>\n",
       "    <tr>\n",
       "      <th>110454</th>\n",
       "      <td>6.142460e+11</td>\n",
       "      <td>5772400</td>\n",
       "      <td>F</td>\n",
       "      <td>2016-06-03</td>\n",
       "      <td>2016-06-03</td>\n",
       "      <td>0</td>\n",
       "      <td>RESISTÊNCIA</td>\n",
       "      <td>0</td>\n",
       "      <td>0</td>\n",
       "      <td>0</td>\n",
       "      <td>0</td>\n",
       "      <td>0</td>\n",
       "      <td>0</td>\n",
       "      <td>No</td>\n",
       "    </tr>\n",
       "    <tr>\n",
       "      <th>110460</th>\n",
       "      <td>4.321846e+13</td>\n",
       "      <td>5769545</td>\n",
       "      <td>F</td>\n",
       "      <td>2016-06-03</td>\n",
       "      <td>2016-06-03</td>\n",
       "      <td>0</td>\n",
       "      <td>RESISTÊNCIA</td>\n",
       "      <td>0</td>\n",
       "      <td>0</td>\n",
       "      <td>0</td>\n",
       "      <td>0</td>\n",
       "      <td>0</td>\n",
       "      <td>0</td>\n",
       "      <td>No</td>\n",
       "    </tr>\n",
       "    <tr>\n",
       "      <th>110507</th>\n",
       "      <td>4.769462e+14</td>\n",
       "      <td>5786918</td>\n",
       "      <td>F</td>\n",
       "      <td>2016-06-08</td>\n",
       "      <td>2016-06-08</td>\n",
       "      <td>0</td>\n",
       "      <td>MARIA ORTIZ</td>\n",
       "      <td>0</td>\n",
       "      <td>0</td>\n",
       "      <td>0</td>\n",
       "      <td>0</td>\n",
       "      <td>0</td>\n",
       "      <td>0</td>\n",
       "      <td>No</td>\n",
       "    </tr>\n",
       "  </tbody>\n",
       "</table>\n",
       "<p>3539 rows × 14 columns</p>\n",
       "</div>"
      ],
      "text/plain": [
       "           patientid  appointmentid gender scheduled_day appointment_day  age  \\\n",
       "59      7.184428e+13        5638545      F    2016-04-29      2016-04-29    0   \n",
       "63      2.366233e+14        5628286      M    2016-04-27      2016-04-29    0   \n",
       "64      1.885174e+14        5616082      M    2016-04-25      2016-04-29    0   \n",
       "65      2.718818e+14        5628321      M    2016-04-27      2016-04-29    0   \n",
       "67      8.647128e+13        5639264      F    2016-04-29      2016-04-29    0   \n",
       "...              ...            ...    ...           ...             ...  ...   \n",
       "110345  1.473952e+14        5702537      F    2016-05-16      2016-06-01    0   \n",
       "110346  5.577525e+12        5777724      M    2016-06-06      2016-06-08    0   \n",
       "110454  6.142460e+11        5772400      F    2016-06-03      2016-06-03    0   \n",
       "110460  4.321846e+13        5769545      F    2016-06-03      2016-06-03    0   \n",
       "110507  4.769462e+14        5786918      F    2016-06-08      2016-06-08    0   \n",
       "\n",
       "            neighbourhood  scholarship  hipertension  diabetes  alcoholism  \\\n",
       "59              CONQUISTA            0             0         0           0   \n",
       "63           SÃO BENEDITO            0             0         0           0   \n",
       "64      ILHA DAS CAIEIRAS            0             0         0           0   \n",
       "65              CONQUISTA            0             0         0           0   \n",
       "67         NOVA PALESTINA            0             0         0           0   \n",
       "...                   ...          ...           ...       ...         ...   \n",
       "110345        RESISTÊNCIA            0             0         0           0   \n",
       "110346        RESISTÊNCIA            0             0         0           0   \n",
       "110454        RESISTÊNCIA            0             0         0           0   \n",
       "110460        RESISTÊNCIA            0             0         0           0   \n",
       "110507        MARIA ORTIZ            0             0         0           0   \n",
       "\n",
       "        handicap  sms_received no_show  \n",
       "59             0             0      No  \n",
       "63             0             0      No  \n",
       "64             0             1      No  \n",
       "65             0             0      No  \n",
       "67             0             0      No  \n",
       "...          ...           ...     ...  \n",
       "110345         0             0      No  \n",
       "110346         0             0      No  \n",
       "110454         0             0      No  \n",
       "110460         0             0      No  \n",
       "110507         0             0      No  \n",
       "\n",
       "[3539 rows x 14 columns]"
      ]
     },
     "execution_count": 107,
     "metadata": {},
     "output_type": "execute_result"
    }
   ],
   "source": [
    "# Checking ages == 0 values in the age column \n",
    "df.loc[df['age'] == 0]"
   ]
  },
  {
   "cell_type": "markdown",
   "metadata": {},
   "source": [
    "> There are 3539 records with 0 years old! Since age will be a significant independent variable in this analysis, the zero values will be replaced with the age mean value.  "
   ]
  },
  {
   "cell_type": "code",
   "execution_count": 108,
   "metadata": {},
   "outputs": [
    {
     "name": "stdout",
     "output_type": "stream",
     "text": [
      "The mean age of the patients is 37 years old\n"
     ]
    }
   ],
   "source": [
    "age_mean= int(df['age'].mean())\n",
    "print(\"The mean age of the patients is {} years old\".format(age_mean))"
   ]
  },
  {
   "cell_type": "code",
   "execution_count": 109,
   "metadata": {},
   "outputs": [],
   "source": [
    "#replacing the 0 age values with the mean age \n",
    "df.age.replace(to_replace=[0], value=[age_mean], inplace=True)"
   ]
  },
  {
   "cell_type": "code",
   "execution_count": 110,
   "metadata": {},
   "outputs": [
    {
     "data": {
      "text/html": [
       "<div>\n",
       "<style scoped>\n",
       "    .dataframe tbody tr th:only-of-type {\n",
       "        vertical-align: middle;\n",
       "    }\n",
       "\n",
       "    .dataframe tbody tr th {\n",
       "        vertical-align: top;\n",
       "    }\n",
       "\n",
       "    .dataframe thead th {\n",
       "        text-align: right;\n",
       "    }\n",
       "</style>\n",
       "<table border=\"1\" class=\"dataframe\">\n",
       "  <thead>\n",
       "    <tr style=\"text-align: right;\">\n",
       "      <th></th>\n",
       "      <th>patientid</th>\n",
       "      <th>appointmentid</th>\n",
       "      <th>gender</th>\n",
       "      <th>scheduled_day</th>\n",
       "      <th>appointment_day</th>\n",
       "      <th>age</th>\n",
       "      <th>neighbourhood</th>\n",
       "      <th>scholarship</th>\n",
       "      <th>hipertension</th>\n",
       "      <th>diabetes</th>\n",
       "      <th>alcoholism</th>\n",
       "      <th>handicap</th>\n",
       "      <th>sms_received</th>\n",
       "      <th>no_show</th>\n",
       "    </tr>\n",
       "  </thead>\n",
       "  <tbody>\n",
       "  </tbody>\n",
       "</table>\n",
       "</div>"
      ],
      "text/plain": [
       "Empty DataFrame\n",
       "Columns: [patientid, appointmentid, gender, scheduled_day, appointment_day, age, neighbourhood, scholarship, hipertension, diabetes, alcoholism, handicap, sms_received, no_show]\n",
       "Index: []"
      ]
     },
     "execution_count": 110,
     "metadata": {},
     "output_type": "execute_result"
    }
   ],
   "source": [
    "#checking no 0 age in the data set\n",
    "df[df['age'] == 0]"
   ]
  },
  {
   "cell_type": "markdown",
   "metadata": {},
   "source": [
    "#### Problem four\n",
    "> no_show column type is a string as (No, Yes), since this is the primary dependent variable in this project, we need to convert it to bool type to be easier dealing with it."
   ]
  },
  {
   "cell_type": "code",
   "execution_count": 111,
   "metadata": {},
   "outputs": [
    {
     "data": {
      "text/plain": [
       "No     88207\n",
       "Yes    22319\n",
       "Name: no_show, dtype: int64"
      ]
     },
     "execution_count": 111,
     "metadata": {},
     "output_type": "execute_result"
    }
   ],
   "source": [
    "df['no_show'].value_counts()"
   ]
  },
  {
   "cell_type": "code",
   "execution_count": 112,
   "metadata": {},
   "outputs": [],
   "source": [
    "# first, replacing yes,no to 1,0 in the no_show column\n",
    "df.no_show.replace(to_replace=['No','Yes'], value=[0,1], inplace=True)\n"
   ]
  },
  {
   "cell_type": "code",
   "execution_count": 113,
   "metadata": {},
   "outputs": [
    {
     "data": {
      "text/plain": [
       "0    88207\n",
       "1    22319\n",
       "Name: no_show, dtype: int64"
      ]
     },
     "execution_count": 113,
     "metadata": {},
     "output_type": "execute_result"
    }
   ],
   "source": [
    "df['no_show'].value_counts()"
   ]
  },
  {
   "cell_type": "code",
   "execution_count": 114,
   "metadata": {},
   "outputs": [],
   "source": [
    "#second, converting the int type to boolean\n",
    "df['no_show']= df['no_show'].astype('bool')"
   ]
  },
  {
   "cell_type": "code",
   "execution_count": 115,
   "metadata": {},
   "outputs": [
    {
     "data": {
      "text/plain": [
       "False    88207\n",
       "True     22319\n",
       "Name: no_show, dtype: int64"
      ]
     },
     "execution_count": 115,
     "metadata": {},
     "output_type": "execute_result"
    }
   ],
   "source": [
    "df['no_show'].value_counts()"
   ]
  },
  {
   "cell_type": "markdown",
   "metadata": {},
   "source": [
    "> **Checking the  structure of the data so far**"
   ]
  },
  {
   "cell_type": "code",
   "execution_count": 116,
   "metadata": {},
   "outputs": [
    {
     "name": "stdout",
     "output_type": "stream",
     "text": [
      "<class 'pandas.core.frame.DataFrame'>\n",
      "Int64Index: 110526 entries, 0 to 110526\n",
      "Data columns (total 14 columns):\n",
      " #   Column           Non-Null Count   Dtype         \n",
      "---  ------           --------------   -----         \n",
      " 0   patientid        110526 non-null  float64       \n",
      " 1   appointmentid    110526 non-null  int64         \n",
      " 2   gender           110526 non-null  object        \n",
      " 3   scheduled_day    110526 non-null  object        \n",
      " 4   appointment_day  110526 non-null  datetime64[ns]\n",
      " 5   age              110526 non-null  int64         \n",
      " 6   neighbourhood    110526 non-null  object        \n",
      " 7   scholarship      110526 non-null  int64         \n",
      " 8   hipertension     110526 non-null  int64         \n",
      " 9   diabetes         110526 non-null  int64         \n",
      " 10  alcoholism       110526 non-null  int64         \n",
      " 11  handicap         110526 non-null  int64         \n",
      " 12  sms_received     110526 non-null  int64         \n",
      " 13  no_show          110526 non-null  bool          \n",
      "dtypes: bool(1), datetime64[ns](1), float64(1), int64(8), object(3)\n",
      "memory usage: 11.9+ MB\n"
     ]
    }
   ],
   "source": [
    "df.info()"
   ]
  },
  {
   "cell_type": "code",
   "execution_count": 117,
   "metadata": {},
   "outputs": [
    {
     "data": {
      "text/plain": [
       "patientid           62298\n",
       "appointmentid      110526\n",
       "gender                  2\n",
       "scheduled_day         111\n",
       "appointment_day        27\n",
       "age                   102\n",
       "neighbourhood          81\n",
       "scholarship             2\n",
       "hipertension            2\n",
       "diabetes                2\n",
       "alcoholism              2\n",
       "handicap                5\n",
       "sms_received            2\n",
       "no_show                 2\n",
       "dtype: int64"
      ]
     },
     "execution_count": 117,
     "metadata": {},
     "output_type": "execute_result"
    }
   ],
   "source": [
    "df.nunique()"
   ]
  },
  {
   "cell_type": "markdown",
   "metadata": {
    "collapsed": true
   },
   "source": [
    "> It can be noticed that the columns scholarship,alcoholism,sms_received all of them have only 2 values with 0 and 1, hence we can repeat the same step that was done with no_show column and convert them all to the type boolean using for loop.\n"
   ]
  },
  {
   "cell_type": "code",
   "execution_count": 118,
   "metadata": {},
   "outputs": [],
   "source": [
    "#converting the columns' type by a loop\n",
    "cols=['scholarship','alcoholism', 'sms_received']\n",
    "for column in df[cols]:\n",
    "    df[cols]= df[cols].astype('bool')"
   ]
  },
  {
   "cell_type": "code",
   "execution_count": 119,
   "metadata": {},
   "outputs": [
    {
     "name": "stdout",
     "output_type": "stream",
     "text": [
      "<class 'pandas.core.frame.DataFrame'>\n",
      "Int64Index: 110526 entries, 0 to 110526\n",
      "Data columns (total 14 columns):\n",
      " #   Column           Non-Null Count   Dtype         \n",
      "---  ------           --------------   -----         \n",
      " 0   patientid        110526 non-null  float64       \n",
      " 1   appointmentid    110526 non-null  int64         \n",
      " 2   gender           110526 non-null  object        \n",
      " 3   scheduled_day    110526 non-null  object        \n",
      " 4   appointment_day  110526 non-null  datetime64[ns]\n",
      " 5   age              110526 non-null  int64         \n",
      " 6   neighbourhood    110526 non-null  object        \n",
      " 7   scholarship      110526 non-null  bool          \n",
      " 8   hipertension     110526 non-null  int64         \n",
      " 9   diabetes         110526 non-null  int64         \n",
      " 10  alcoholism       110526 non-null  bool          \n",
      " 11  handicap         110526 non-null  int64         \n",
      " 12  sms_received     110526 non-null  bool          \n",
      " 13  no_show          110526 non-null  bool          \n",
      "dtypes: bool(4), datetime64[ns](1), float64(1), int64(5), object(3)\n",
      "memory usage: 9.7+ MB\n"
     ]
    }
   ],
   "source": [
    "df.info()"
   ]
  },
  {
   "cell_type": "markdown",
   "metadata": {},
   "source": [
    "#### Problem five\n",
    ">Now, after fixing the columns labels and the data types, the paitentid,diabetes,hipertension look not very necessary for the analysis.\n",
    "\n",
    ">Some patients have more than one appointment, as shown when we check the IDs as follows:  "
   ]
  },
  {
   "cell_type": "code",
   "execution_count": 120,
   "metadata": {},
   "outputs": [
    {
     "name": "stdout",
     "output_type": "stream",
     "text": [
      "There are 62298 paitens id and 110526 appointment id\n"
     ]
    }
   ],
   "source": [
    "paitensIds= df['patientid'].nunique()\n",
    "appointmentIds= df['appointmentid'].nunique()\n",
    "print(\"There are {} paitens id and {} appointment id\".format(paitensIds,appointmentIds))"
   ]
  },
  {
   "cell_type": "markdown",
   "metadata": {},
   "source": [
    "> The last cell indicates that there are some id patients who have repeated appointments. Since this analysis scope is only focused on the appointments, the patient will be drooped, and the appointment will be kept as the unique identifier."
   ]
  },
  {
   "cell_type": "code",
   "execution_count": 121,
   "metadata": {},
   "outputs": [],
   "source": [
    "#droping patientid column\n",
    "df.drop('patientid', axis=1, inplace=True)\n",
    "df.drop('diabetes', axis=1, inplace=True)\n",
    "df.drop('hipertension', axis=1, inplace=True)"
   ]
  },
  {
   "cell_type": "code",
   "execution_count": 122,
   "metadata": {},
   "outputs": [
    {
     "data": {
      "text/html": [
       "<div>\n",
       "<style scoped>\n",
       "    .dataframe tbody tr th:only-of-type {\n",
       "        vertical-align: middle;\n",
       "    }\n",
       "\n",
       "    .dataframe tbody tr th {\n",
       "        vertical-align: top;\n",
       "    }\n",
       "\n",
       "    .dataframe thead th {\n",
       "        text-align: right;\n",
       "    }\n",
       "</style>\n",
       "<table border=\"1\" class=\"dataframe\">\n",
       "  <thead>\n",
       "    <tr style=\"text-align: right;\">\n",
       "      <th></th>\n",
       "      <th>appointmentid</th>\n",
       "      <th>gender</th>\n",
       "      <th>scheduled_day</th>\n",
       "      <th>appointment_day</th>\n",
       "      <th>age</th>\n",
       "      <th>neighbourhood</th>\n",
       "      <th>scholarship</th>\n",
       "      <th>alcoholism</th>\n",
       "      <th>handicap</th>\n",
       "      <th>sms_received</th>\n",
       "      <th>no_show</th>\n",
       "    </tr>\n",
       "  </thead>\n",
       "  <tbody>\n",
       "    <tr>\n",
       "      <th>0</th>\n",
       "      <td>5642903</td>\n",
       "      <td>F</td>\n",
       "      <td>2016-04-29</td>\n",
       "      <td>2016-04-29</td>\n",
       "      <td>62</td>\n",
       "      <td>JARDIM DA PENHA</td>\n",
       "      <td>False</td>\n",
       "      <td>False</td>\n",
       "      <td>0</td>\n",
       "      <td>False</td>\n",
       "      <td>False</td>\n",
       "    </tr>\n",
       "  </tbody>\n",
       "</table>\n",
       "</div>"
      ],
      "text/plain": [
       "   appointmentid gender scheduled_day appointment_day  age    neighbourhood  \\\n",
       "0        5642903      F    2016-04-29      2016-04-29   62  JARDIM DA PENHA   \n",
       "\n",
       "   scholarship  alcoholism  handicap  sms_received  no_show  \n",
       "0        False       False         0         False    False  "
      ]
     },
     "execution_count": 122,
     "metadata": {},
     "output_type": "execute_result"
    }
   ],
   "source": [
    "df.head(1)"
   ]
  },
  {
   "cell_type": "code",
   "execution_count": 123,
   "metadata": {},
   "outputs": [
    {
     "data": {
      "text/html": [
       "<div>\n",
       "<style scoped>\n",
       "    .dataframe tbody tr th:only-of-type {\n",
       "        vertical-align: middle;\n",
       "    }\n",
       "\n",
       "    .dataframe tbody tr th {\n",
       "        vertical-align: top;\n",
       "    }\n",
       "\n",
       "    .dataframe thead th {\n",
       "        text-align: right;\n",
       "    }\n",
       "</style>\n",
       "<table border=\"1\" class=\"dataframe\">\n",
       "  <thead>\n",
       "    <tr style=\"text-align: right;\">\n",
       "      <th></th>\n",
       "      <th>appointmentid</th>\n",
       "      <th>age</th>\n",
       "      <th>handicap</th>\n",
       "    </tr>\n",
       "  </thead>\n",
       "  <tbody>\n",
       "    <tr>\n",
       "      <th>count</th>\n",
       "      <td>1.105260e+05</td>\n",
       "      <td>110526.000000</td>\n",
       "      <td>110526.000000</td>\n",
       "    </tr>\n",
       "    <tr>\n",
       "      <th>mean</th>\n",
       "      <td>5.675304e+06</td>\n",
       "      <td>38.273945</td>\n",
       "      <td>0.022248</td>\n",
       "    </tr>\n",
       "    <tr>\n",
       "      <th>std</th>\n",
       "      <td>7.129544e+04</td>\n",
       "      <td>22.104819</td>\n",
       "      <td>0.161543</td>\n",
       "    </tr>\n",
       "    <tr>\n",
       "      <th>min</th>\n",
       "      <td>5.030230e+06</td>\n",
       "      <td>1.000000</td>\n",
       "      <td>0.000000</td>\n",
       "    </tr>\n",
       "    <tr>\n",
       "      <th>25%</th>\n",
       "      <td>5.640285e+06</td>\n",
       "      <td>20.000000</td>\n",
       "      <td>0.000000</td>\n",
       "    </tr>\n",
       "    <tr>\n",
       "      <th>50%</th>\n",
       "      <td>5.680572e+06</td>\n",
       "      <td>37.000000</td>\n",
       "      <td>0.000000</td>\n",
       "    </tr>\n",
       "    <tr>\n",
       "      <th>75%</th>\n",
       "      <td>5.725523e+06</td>\n",
       "      <td>55.000000</td>\n",
       "      <td>0.000000</td>\n",
       "    </tr>\n",
       "    <tr>\n",
       "      <th>max</th>\n",
       "      <td>5.790484e+06</td>\n",
       "      <td>115.000000</td>\n",
       "      <td>4.000000</td>\n",
       "    </tr>\n",
       "  </tbody>\n",
       "</table>\n",
       "</div>"
      ],
      "text/plain": [
       "       appointmentid            age       handicap\n",
       "count   1.105260e+05  110526.000000  110526.000000\n",
       "mean    5.675304e+06      38.273945       0.022248\n",
       "std     7.129544e+04      22.104819       0.161543\n",
       "min     5.030230e+06       1.000000       0.000000\n",
       "25%     5.640285e+06      20.000000       0.000000\n",
       "50%     5.680572e+06      37.000000       0.000000\n",
       "75%     5.725523e+06      55.000000       0.000000\n",
       "max     5.790484e+06     115.000000       4.000000"
      ]
     },
     "execution_count": 123,
     "metadata": {},
     "output_type": "execute_result"
    }
   ],
   "source": [
    "df.describe()\n"
   ]
  },
  {
   "cell_type": "code",
   "execution_count": 124,
   "metadata": {},
   "outputs": [
    {
     "data": {
      "text/html": [
       "<div>\n",
       "<style scoped>\n",
       "    .dataframe tbody tr th:only-of-type {\n",
       "        vertical-align: middle;\n",
       "    }\n",
       "\n",
       "    .dataframe tbody tr th {\n",
       "        vertical-align: top;\n",
       "    }\n",
       "\n",
       "    .dataframe thead th {\n",
       "        text-align: right;\n",
       "    }\n",
       "</style>\n",
       "<table border=\"1\" class=\"dataframe\">\n",
       "  <thead>\n",
       "    <tr style=\"text-align: right;\">\n",
       "      <th></th>\n",
       "      <th>appointmentid</th>\n",
       "      <th>gender</th>\n",
       "      <th>scheduled_day</th>\n",
       "      <th>appointment_day</th>\n",
       "      <th>age</th>\n",
       "      <th>neighbourhood</th>\n",
       "      <th>scholarship</th>\n",
       "      <th>alcoholism</th>\n",
       "      <th>handicap</th>\n",
       "      <th>sms_received</th>\n",
       "      <th>no_show</th>\n",
       "    </tr>\n",
       "  </thead>\n",
       "  <tbody>\n",
       "    <tr>\n",
       "      <th>0</th>\n",
       "      <td>5642903</td>\n",
       "      <td>F</td>\n",
       "      <td>2016-04-29</td>\n",
       "      <td>2016-04-29</td>\n",
       "      <td>62</td>\n",
       "      <td>JARDIM DA PENHA</td>\n",
       "      <td>False</td>\n",
       "      <td>False</td>\n",
       "      <td>0</td>\n",
       "      <td>False</td>\n",
       "      <td>False</td>\n",
       "    </tr>\n",
       "    <tr>\n",
       "      <th>1</th>\n",
       "      <td>5642503</td>\n",
       "      <td>M</td>\n",
       "      <td>2016-04-29</td>\n",
       "      <td>2016-04-29</td>\n",
       "      <td>56</td>\n",
       "      <td>JARDIM DA PENHA</td>\n",
       "      <td>False</td>\n",
       "      <td>False</td>\n",
       "      <td>0</td>\n",
       "      <td>False</td>\n",
       "      <td>False</td>\n",
       "    </tr>\n",
       "    <tr>\n",
       "      <th>2</th>\n",
       "      <td>5642549</td>\n",
       "      <td>F</td>\n",
       "      <td>2016-04-29</td>\n",
       "      <td>2016-04-29</td>\n",
       "      <td>62</td>\n",
       "      <td>MATA DA PRAIA</td>\n",
       "      <td>False</td>\n",
       "      <td>False</td>\n",
       "      <td>0</td>\n",
       "      <td>False</td>\n",
       "      <td>False</td>\n",
       "    </tr>\n",
       "    <tr>\n",
       "      <th>3</th>\n",
       "      <td>5642828</td>\n",
       "      <td>F</td>\n",
       "      <td>2016-04-29</td>\n",
       "      <td>2016-04-29</td>\n",
       "      <td>8</td>\n",
       "      <td>PONTAL DE CAMBURI</td>\n",
       "      <td>False</td>\n",
       "      <td>False</td>\n",
       "      <td>0</td>\n",
       "      <td>False</td>\n",
       "      <td>False</td>\n",
       "    </tr>\n",
       "    <tr>\n",
       "      <th>4</th>\n",
       "      <td>5642494</td>\n",
       "      <td>F</td>\n",
       "      <td>2016-04-29</td>\n",
       "      <td>2016-04-29</td>\n",
       "      <td>56</td>\n",
       "      <td>JARDIM DA PENHA</td>\n",
       "      <td>False</td>\n",
       "      <td>False</td>\n",
       "      <td>0</td>\n",
       "      <td>False</td>\n",
       "      <td>False</td>\n",
       "    </tr>\n",
       "  </tbody>\n",
       "</table>\n",
       "</div>"
      ],
      "text/plain": [
       "   appointmentid gender scheduled_day appointment_day  age      neighbourhood  \\\n",
       "0        5642903      F    2016-04-29      2016-04-29   62    JARDIM DA PENHA   \n",
       "1        5642503      M    2016-04-29      2016-04-29   56    JARDIM DA PENHA   \n",
       "2        5642549      F    2016-04-29      2016-04-29   62      MATA DA PRAIA   \n",
       "3        5642828      F    2016-04-29      2016-04-29    8  PONTAL DE CAMBURI   \n",
       "4        5642494      F    2016-04-29      2016-04-29   56    JARDIM DA PENHA   \n",
       "\n",
       "   scholarship  alcoholism  handicap  sms_received  no_show  \n",
       "0        False       False         0         False    False  \n",
       "1        False       False         0         False    False  \n",
       "2        False       False         0         False    False  \n",
       "3        False       False         0         False    False  \n",
       "4        False       False         0         False    False  "
      ]
     },
     "execution_count": 124,
     "metadata": {},
     "output_type": "execute_result"
    }
   ],
   "source": [
    "df.head()"
   ]
  },
  {
   "cell_type": "markdown",
   "metadata": {},
   "source": [
    "#### Problem six\n",
    "> In the last problem, the dataset needs to have a new column that has the week days.\n",
    "\n",
    "\n",
    "> [Reference3](https://stackoverflow.com/questions/30222533/create-a-day-of-week-column-in-a-pandas-dataframe-using-python)"
   ]
  },
  {
   "cell_type": "code",
   "execution_count": 125,
   "metadata": {},
   "outputs": [],
   "source": [
    "# Creating the week day column \n",
    "df['day_of_week'] = df['appointment_day'].dt.day_name()"
   ]
  },
  {
   "cell_type": "code",
   "execution_count": 126,
   "metadata": {},
   "outputs": [
    {
     "data": {
      "text/html": [
       "<div>\n",
       "<style scoped>\n",
       "    .dataframe tbody tr th:only-of-type {\n",
       "        vertical-align: middle;\n",
       "    }\n",
       "\n",
       "    .dataframe tbody tr th {\n",
       "        vertical-align: top;\n",
       "    }\n",
       "\n",
       "    .dataframe thead th {\n",
       "        text-align: right;\n",
       "    }\n",
       "</style>\n",
       "<table border=\"1\" class=\"dataframe\">\n",
       "  <thead>\n",
       "    <tr style=\"text-align: right;\">\n",
       "      <th></th>\n",
       "      <th>appointmentid</th>\n",
       "      <th>gender</th>\n",
       "      <th>scheduled_day</th>\n",
       "      <th>appointment_day</th>\n",
       "      <th>age</th>\n",
       "      <th>neighbourhood</th>\n",
       "      <th>scholarship</th>\n",
       "      <th>alcoholism</th>\n",
       "      <th>handicap</th>\n",
       "      <th>sms_received</th>\n",
       "      <th>no_show</th>\n",
       "      <th>day_of_week</th>\n",
       "    </tr>\n",
       "  </thead>\n",
       "  <tbody>\n",
       "    <tr>\n",
       "      <th>0</th>\n",
       "      <td>5642903</td>\n",
       "      <td>F</td>\n",
       "      <td>2016-04-29</td>\n",
       "      <td>2016-04-29</td>\n",
       "      <td>62</td>\n",
       "      <td>JARDIM DA PENHA</td>\n",
       "      <td>False</td>\n",
       "      <td>False</td>\n",
       "      <td>0</td>\n",
       "      <td>False</td>\n",
       "      <td>False</td>\n",
       "      <td>Friday</td>\n",
       "    </tr>\n",
       "    <tr>\n",
       "      <th>1</th>\n",
       "      <td>5642503</td>\n",
       "      <td>M</td>\n",
       "      <td>2016-04-29</td>\n",
       "      <td>2016-04-29</td>\n",
       "      <td>56</td>\n",
       "      <td>JARDIM DA PENHA</td>\n",
       "      <td>False</td>\n",
       "      <td>False</td>\n",
       "      <td>0</td>\n",
       "      <td>False</td>\n",
       "      <td>False</td>\n",
       "      <td>Friday</td>\n",
       "    </tr>\n",
       "    <tr>\n",
       "      <th>2</th>\n",
       "      <td>5642549</td>\n",
       "      <td>F</td>\n",
       "      <td>2016-04-29</td>\n",
       "      <td>2016-04-29</td>\n",
       "      <td>62</td>\n",
       "      <td>MATA DA PRAIA</td>\n",
       "      <td>False</td>\n",
       "      <td>False</td>\n",
       "      <td>0</td>\n",
       "      <td>False</td>\n",
       "      <td>False</td>\n",
       "      <td>Friday</td>\n",
       "    </tr>\n",
       "    <tr>\n",
       "      <th>3</th>\n",
       "      <td>5642828</td>\n",
       "      <td>F</td>\n",
       "      <td>2016-04-29</td>\n",
       "      <td>2016-04-29</td>\n",
       "      <td>8</td>\n",
       "      <td>PONTAL DE CAMBURI</td>\n",
       "      <td>False</td>\n",
       "      <td>False</td>\n",
       "      <td>0</td>\n",
       "      <td>False</td>\n",
       "      <td>False</td>\n",
       "      <td>Friday</td>\n",
       "    </tr>\n",
       "    <tr>\n",
       "      <th>4</th>\n",
       "      <td>5642494</td>\n",
       "      <td>F</td>\n",
       "      <td>2016-04-29</td>\n",
       "      <td>2016-04-29</td>\n",
       "      <td>56</td>\n",
       "      <td>JARDIM DA PENHA</td>\n",
       "      <td>False</td>\n",
       "      <td>False</td>\n",
       "      <td>0</td>\n",
       "      <td>False</td>\n",
       "      <td>False</td>\n",
       "      <td>Friday</td>\n",
       "    </tr>\n",
       "  </tbody>\n",
       "</table>\n",
       "</div>"
      ],
      "text/plain": [
       "   appointmentid gender scheduled_day appointment_day  age      neighbourhood  \\\n",
       "0        5642903      F    2016-04-29      2016-04-29   62    JARDIM DA PENHA   \n",
       "1        5642503      M    2016-04-29      2016-04-29   56    JARDIM DA PENHA   \n",
       "2        5642549      F    2016-04-29      2016-04-29   62      MATA DA PRAIA   \n",
       "3        5642828      F    2016-04-29      2016-04-29    8  PONTAL DE CAMBURI   \n",
       "4        5642494      F    2016-04-29      2016-04-29   56    JARDIM DA PENHA   \n",
       "\n",
       "   scholarship  alcoholism  handicap  sms_received  no_show day_of_week  \n",
       "0        False       False         0         False    False      Friday  \n",
       "1        False       False         0         False    False      Friday  \n",
       "2        False       False         0         False    False      Friday  \n",
       "3        False       False         0         False    False      Friday  \n",
       "4        False       False         0         False    False      Friday  "
      ]
     },
     "execution_count": 126,
     "metadata": {},
     "output_type": "execute_result"
    }
   ],
   "source": [
    "df.head()"
   ]
  },
  {
   "cell_type": "code",
   "execution_count": 127,
   "metadata": {},
   "outputs": [],
   "source": [
    "df.to_csv('noshowappointments-cleanV-2016.csv', index=False)"
   ]
  },
  {
   "cell_type": "markdown",
   "metadata": {},
   "source": [
    "<a id='eda'></a>\n",
    "## Exploratory Data Analysis\n",
    "> [Reference](https://www.dataforeverybody.com/matplotlib-seaborn-pie-charts/)\n",
    "\n",
    "> [Reference](https://seaborn.pydata.org/tutorial/categorical.html)\n"
   ]
  },
  {
   "cell_type": "markdown",
   "metadata": {},
   "source": [
    "### General Observation "
   ]
  },
  {
   "cell_type": "code",
   "execution_count": 128,
   "metadata": {},
   "outputs": [
    {
     "data": {
      "text/html": [
       "<div>\n",
       "<style scoped>\n",
       "    .dataframe tbody tr th:only-of-type {\n",
       "        vertical-align: middle;\n",
       "    }\n",
       "\n",
       "    .dataframe tbody tr th {\n",
       "        vertical-align: top;\n",
       "    }\n",
       "\n",
       "    .dataframe thead th {\n",
       "        text-align: right;\n",
       "    }\n",
       "</style>\n",
       "<table border=\"1\" class=\"dataframe\">\n",
       "  <thead>\n",
       "    <tr style=\"text-align: right;\">\n",
       "      <th></th>\n",
       "      <th>appointmentid</th>\n",
       "      <th>gender</th>\n",
       "      <th>scheduled_day</th>\n",
       "      <th>appointment_day</th>\n",
       "      <th>age</th>\n",
       "      <th>neighbourhood</th>\n",
       "      <th>scholarship</th>\n",
       "      <th>alcoholism</th>\n",
       "      <th>handicap</th>\n",
       "      <th>sms_received</th>\n",
       "      <th>no_show</th>\n",
       "      <th>day_of_week</th>\n",
       "    </tr>\n",
       "  </thead>\n",
       "  <tbody>\n",
       "    <tr>\n",
       "      <th>0</th>\n",
       "      <td>5642903</td>\n",
       "      <td>F</td>\n",
       "      <td>2016-04-29</td>\n",
       "      <td>2016-04-29</td>\n",
       "      <td>62</td>\n",
       "      <td>JARDIM DA PENHA</td>\n",
       "      <td>False</td>\n",
       "      <td>False</td>\n",
       "      <td>0</td>\n",
       "      <td>False</td>\n",
       "      <td>False</td>\n",
       "      <td>Friday</td>\n",
       "    </tr>\n",
       "  </tbody>\n",
       "</table>\n",
       "</div>"
      ],
      "text/plain": [
       "   appointmentid gender scheduled_day appointment_day  age    neighbourhood  \\\n",
       "0        5642903      F    2016-04-29      2016-04-29   62  JARDIM DA PENHA   \n",
       "\n",
       "   scholarship  alcoholism  handicap  sms_received  no_show day_of_week  \n",
       "0        False       False         0         False    False      Friday  "
      ]
     },
     "execution_count": 128,
     "metadata": {},
     "output_type": "execute_result"
    }
   ],
   "source": [
    "# Creating a mask for show, not_show\n",
    "show= df.no_show == False\n",
    "not_show= df.no_show == True\n",
    "df.head(1)"
   ]
  },
  {
   "cell_type": "markdown",
   "metadata": {},
   "source": [
    ">The first step to get an overview of the mean of show/no show:"
   ]
  },
  {
   "cell_type": "code",
   "execution_count": 129,
   "metadata": {},
   "outputs": [
    {
     "data": {
      "image/png": "[encoded data removed]",
      "text/plain": [
       "<Figure size 720x432 with 1 Axes>"
      ]
     },
     "metadata": {},
     "output_type": "display_data"
    }
   ],
   "source": [
    "#Using matplotlib\n",
    "pie, ax = plt.subplots(figsize=[10,6])\n",
    "labels = ['show', 'no show']\n",
    "plt.pie(x=df.no_show.value_counts(), autopct=\"%.1f%%\", labels=labels, colors = sns.color_palette('bright')[3:6], startangle=90)\n",
    "plt.title(\"Showing up % Vs No showing up %\", fontsize=14);\n",
    "plt.show()"
   ]
  },
  {
   "cell_type": "markdown",
   "metadata": {},
   "source": [
    ">**explanation**:The overall showing up % is quite good and it means that most of the patients show up for the medical appointments, yet we need to improve this % and make sure that more patients show up."
   ]
  },
  {
   "cell_type": "markdown",
   "metadata": {},
   "source": [
    ">The second step to get an overview of the age using box plot:"
   ]
  },
  {
   "cell_type": "code",
   "execution_count": 130,
   "metadata": {},
   "outputs": [
    {
     "data": {
      "image/png": "[encoded data removed]",
      "text/plain": [
       "<Figure size 432x288 with 1 Axes>"
      ]
     },
     "metadata": {
      "needs_background": "light"
     },
     "output_type": "display_data"
    }
   ],
   "source": [
    "#using seaborn box plot\n",
    "ax = sns.boxplot(x=df[\"age\"])"
   ]
  },
  {
   "cell_type": "markdown",
   "metadata": {},
   "source": [
    ">**explanation**:The mean age is 37 years old; some outliers are the people who have rare age above 100 years old. The youngest patients are one year old. The most common age interval falls between the 20s and 50s."
   ]
  },
  {
   "cell_type": "markdown",
   "metadata": {},
   "source": [
    ">The third step to get an overview of the gender using countplot:"
   ]
  },
  {
   "cell_type": "code",
   "execution_count": 131,
   "metadata": {},
   "outputs": [
    {
     "data": {
      "image/png": "[encoded data removed]",
      "text/plain": [
       "<Figure size 432x288 with 1 Axes>"
      ]
     },
     "metadata": {
      "needs_background": "light"
     },
     "output_type": "display_data"
    }
   ],
   "source": [
    "ax = sns.countplot(x=\"gender\", data=df)"
   ]
  },
  {
   "cell_type": "markdown",
   "metadata": {},
   "source": [
    ">**explanation**:The number of female patients is higher than male patients."
   ]
  },
  {
   "cell_type": "markdown",
   "metadata": {},
   "source": [
    ">The fourth step is to get an overview of which gender has applied to the scholarship:"
   ]
  },
  {
   "cell_type": "code",
   "execution_count": 132,
   "metadata": {},
   "outputs": [
    {
     "data": {
      "image/png": "[encoded data removed]",
      "text/plain": [
       "<Figure size 432x288 with 1 Axes>"
      ]
     },
     "metadata": {},
     "output_type": "display_data"
    }
   ],
   "source": [
    "sns.set_theme(style=\"whitegrid\")\n",
    "ax = sns.barplot(x=\"scholarship\", y=\"gender\", data=df)"
   ]
  },
  {
   "cell_type": "markdown",
   "metadata": {},
   "source": [
    ">**explanation**:The number of female patients is higher than male patients who apllied for the scholarship."
   ]
  },
  {
   "cell_type": "markdown",
   "metadata": {},
   "source": [
    "### Research questions"
   ]
  },
  {
   "cell_type": "markdown",
   "metadata": {},
   "source": [
    "### 1.Do Weekends have a better showing up probability than weekdays?"
   ]
  },
  {
   "cell_type": "code",
   "execution_count": 133,
   "metadata": {},
   "outputs": [
    {
     "name": "stdout",
     "output_type": "stream",
     "text": [
      "Wednesday    20774\n",
      "Tuesday      20488\n",
      "Monday       18024\n",
      "Friday       14982\n",
      "Thursday     13909\n",
      "Saturday        30\n",
      "Name: day_of_week, dtype: int64\n",
      "\n",
      "\n",
      "Tuesday      5152\n",
      "Wednesday    5093\n",
      "Monday       4690\n",
      "Friday       4037\n",
      "Thursday     3338\n",
      "Saturday        9\n",
      "Name: day_of_week, dtype: int64\n"
     ]
    },
    {
     "data": {
      "image/png": "[encoded data removed]",
      "text/plain": [
       "<Figure size 432x288 with 1 Axes>"
      ]
     },
     "metadata": {},
     "output_type": "display_data"
    }
   ],
   "source": [
    "# Counting and plotting the patients numbers by the mask\n",
    "print(df.day_of_week[show].value_counts())\n",
    "print('\\n')\n",
    "print(df.day_of_week[not_show].value_counts())\n",
    "#Using matplotlib\n",
    "df.day_of_week[show].hist(alpha=0.7, bins=20, label='show')\n",
    "df.day_of_week[not_show].hist(alpha=0.5, bins=20, label='not_show')\n",
    "plt.title(\"week days Vs no show\")\n",
    "plt.xlabel(\"Week days\")\n",
    "plt.ylabel(\"No. of show/no show\")\n",
    "plt.legend();"
   ]
  },
  {
   "cell_type": "markdown",
   "metadata": {},
   "source": [
    "> **explanation**: This graph shows the distrbution of the number of patients trough the week to get a bird eye view of the higet showing up days. Hence the graph concluded that weekends do not have better showing up probability than weekdays."
   ]
  },
  {
   "cell_type": "markdown",
   "metadata": {},
   "source": [
    "### 2.Do people tend to show up on the same day of scheduling?"
   ]
  },
  {
   "cell_type": "code",
   "execution_count": 134,
   "metadata": {
    "scrolled": true
   },
   "outputs": [
    {
     "name": "stdout",
     "output_type": "stream",
     "text": [
      "The % of show/no_show if the appotiment day as the same day of scheduling:\n",
      "\n",
      "False    41.686034\n",
      "True      8.029034\n",
      "Name: no_show, dtype: float64\n",
      "The number appotiment day as the same day of scheduling:\n",
      "38562\n",
      "The % of show/no_show if the appotiment day not the same day of scheduling:\n",
      "\n",
      "False    58.313966\n",
      "True     91.970966\n",
      "Name: no_show, dtype: float64\n",
      "The number appotiment day not the same day of scheduling:\n",
      "71964\n"
     ]
    },
    {
     "data": {
      "image/png": "[encoded data removed]",
      "text/plain": [
       "<Figure size 720x432 with 1 Axes>"
      ]
     },
     "metadata": {},
     "output_type": "display_data"
    }
   ],
   "source": [
    "#Creating two data frames:\n",
    "# data frame has the appotiment day as the same day of scheduling\n",
    "dfc=df[df.scheduled_day == df.appointment_day]\n",
    "print(\"The % of show/no_show if the appotiment day as the same day of scheduling:\\n\")\n",
    "same_show=dfc['no_show'].value_counts()/df['no_show'].value_counts()*100\n",
    "print(same_show)\n",
    "print(\"The number appotiment day as the same day of scheduling:\")\n",
    "print(dfc['no_show'].value_counts().sum())\n",
    "\n",
    "# data frame has the appotiment day not the same day of scheduling\n",
    "dfx=df[df.scheduled_day != df.appointment_day]\n",
    "print(\"The % of show/no_show if the appotiment day not the same day of scheduling:\\n\")\n",
    "not_same_show=dfx['no_show'].value_counts()/df['no_show'].value_counts()*100\n",
    "print(not_same_show)\n",
    "print(\"The number appotiment day not the same day of scheduling:\")\n",
    "print(dfx['no_show'].value_counts().sum())\n",
    "#Using matplotlib\n",
    "pie, ax = plt.subplots(figsize=[10,6])\n",
    "labels = ['same_show', 'not_same show']\n",
    "plt.pie(x=[same_show[0], not_same_show[0]], autopct=\"%.1f%%\", labels=labels, colors = sns.color_palette('bright')[1:4], startangle=90)\n",
    "plt.title(\"Showing up % on the same day of scheduling\", fontsize=14);\n",
    "plt.show()"
   ]
  },
  {
   "cell_type": "markdown",
   "metadata": {},
   "source": [
    ">**explanation**: This graph shows the % of the number of patients showed up on the same day of scheduling vs not same day of scheduling, many calcultaions and steps were required to reach this final graph; it illustrates that most likely patients (58.3%) prefer set up their appointmet early with higer chance to show up. "
   ]
  },
  {
   "cell_type": "markdown",
   "metadata": {},
   "source": [
    "### 3.DO SMS notifications affect the percentage of showing up?\n"
   ]
  },
  {
   "cell_type": "code",
   "execution_count": 135,
   "metadata": {},
   "outputs": [
    {
     "name": "stdout",
     "output_type": "stream",
     "text": [
      "The mean of the number of people who recived sms and showed is 0.29133742220005215\n",
      "\n",
      "The mean of the number of people who recived sms and not showed is 0.43837089475334917\n",
      "\n"
     ]
    },
    {
     "data": {
      "image/png": "[encoded data removed]",
      "text/plain": [
       "<Figure size 720x432 with 1 Axes>"
      ]
     },
     "metadata": {},
     "output_type": "display_data"
    }
   ],
   "source": [
    "#SMS notificationsmean and plotting by the mask\n",
    "mean_recived_show=df.sms_received[show].mean()\n",
    "mean_recived_notshow=df.sms_received[not_show].mean()\n",
    "print('The mean of the number of people who recived sms and showed is {}\\n'.format(mean_recived_show))\n",
    "print('The mean of the number of people who recived sms and not showed is {}\\n'.format(mean_recived_notshow))\n",
    "#Using matplotlib\n",
    "pie, ax = plt.subplots(figsize=[10,6])\n",
    "labels = ['sms not received', 'sms received']\n",
    "plt.pie(x=df.sms_received[show].value_counts(), explode=[0.05]*2, labels=labels, pctdistance=0.5, shadow=True, startangle=270)\n",
    "plt.title(\"SMS notification percentage of showing up\", fontsize=14);\n",
    "plt.show()"
   ]
  },
  {
   "cell_type": "markdown",
   "metadata": {},
   "source": [
    ">**explanation**: This graph shows if the SMS reminders are important factor for patients to show up. But surprisingly the graph showed that the number of people who got sms reminders and showed up are less than the number of who did not git SMS and showed. also the mean showed that 43.8% of people recived sms and not showed. on the other hand only 29.1% who recived showed up."
   ]
  },
  {
   "cell_type": "markdown",
   "metadata": {},
   "source": [
    "### 4.Does gender play any role in committing to a medical appointment?"
   ]
  },
  {
   "cell_type": "code",
   "execution_count": 136,
   "metadata": {},
   "outputs": [
    {
     "name": "stdout",
     "output_type": "stream",
     "text": [
      "The % of femals who showed is 79.68512924734476 : not showed is 20.314870752655242\n",
      "The % of males who showed is 80.03205211052808 : not showed is 19.967947889471915\n"
     ]
    },
    {
     "data": {
      "image/png": "[encoded data removed]",
      "text/plain": [
       "<Figure size 720x432 with 1 Axes>"
      ]
     },
     "metadata": {},
     "output_type": "display_data"
    },
    {
     "data": {
      "image/png": "[encoded data removed]",
      "text/plain": [
       "<Figure size 720x432 with 1 Axes>"
      ]
     },
     "metadata": {},
     "output_type": "display_data"
    }
   ],
   "source": [
    "#calcluating the % of show/no show for femals and males\n",
    "F_show=(df.gender[show].value_counts()/df.gender.value_counts()*100)[0]\n",
    "F_noshow=(df.gender[not_show].value_counts()/df.gender.value_counts()*100)[0]\n",
    "M_show=(df.gender[show].value_counts()/df.gender.value_counts()*100)[1]\n",
    "M_noshow=(df.gender[not_show].value_counts()/df.gender.value_counts()*100)[1]\n",
    "print('The % of femals who showed is {} : not showed is {}'.format(F_show, F_noshow))\n",
    "print('The % of males who showed is {} : not showed is {}'.format(M_show, M_noshow))\n",
    "#Using matplotlib\n",
    "pie, ax = plt.subplots(figsize=[10,6])\n",
    "labels = ['show', 'no show']\n",
    "plt.pie(x=[F_show, F_noshow], autopct=\"%.1f%%\", labels=labels, colors = sns.color_palette('bright')[0:5], shadow=True, startangle=270)\n",
    "plt.title(\"Female percentage of showing up\", fontsize=14);\n",
    "plt.show()\n",
    "pie, ax = plt.subplots(figsize=[10,6])\n",
    "labels = ['show', 'no show']\n",
    "plt.pie(x=[M_show, M_noshow], autopct=\"%.1f%%\", labels=labels, colors = sns.color_palette('bright')[2:5], shadow=True, startangle=270)\n",
    "plt.title(\"Male percentage of showing up\", fontsize=14);\n",
    "plt.show()"
   ]
  },
  {
   "cell_type": "markdown",
   "metadata": {},
   "source": [
    ">**explanation**: Both graphs show that males and females have approximately the same % of showing/not showig. These graphs also required some calculations to reach this conclusion(gender does not play in role  in committing to a medical appointment)."
   ]
  },
  {
   "cell_type": "markdown",
   "metadata": {},
   "source": [
    "###  5.\tDo Scholarship, Age, Handicap & Alcoholism affect the probability of patients showing up?"
   ]
  },
  {
   "cell_type": "code",
   "execution_count": 137,
   "metadata": {},
   "outputs": [
    {
     "name": "stdout",
     "output_type": "stream",
     "text": [
      "scholarship  no_show\n",
      "False        False      79924\n",
      "             True       19741\n",
      "True         False       8283\n",
      "             True        2578\n",
      "Name: no_show, dtype: int64\n"
     ]
    },
    {
     "data": {
      "image/png": "[encoded data removed]",
      "text/plain": [
       "<Figure size 1584x720 with 1 Axes>"
      ]
     },
     "metadata": {},
     "output_type": "display_data"
    }
   ],
   "source": [
    "#Scholarship\n",
    "print(df.groupby('scholarship')['no_show'].value_counts())\n",
    "df.groupby('scholarship')['no_show'].value_counts().plot(kind = 'bar',figsize=(22,10))\n",
    "plt.xlabel(\"scholarship/{show-no show}\")\n",
    "plt.ylabel(\"No. Patients\")\n",
    "plt.title(\"Patients who have scolarship Vs patients who showed/not showed\");"
   ]
  },
  {
   "cell_type": "markdown",
   "metadata": {},
   "source": [
    ">**explanation**:This graph shows the overall view of patients with scholarship relations. It can be noticed that most of the patients who showed up did not have the scholarship. Also, the number of patients who had a scholarship showed is more than the number of people who had and did not show. But the graph illustrates that scholarship does not affect the % of showing up generally."
   ]
  },
  {
   "cell_type": "code",
   "execution_count": 138,
   "metadata": {},
   "outputs": [
    {
     "name": "stdout",
     "output_type": "stream",
     "text": [
      "count    110526.000000\n",
      "mean         38.273945\n",
      "std          22.104819\n",
      "min           1.000000\n",
      "25%          20.000000\n",
      "50%          37.000000\n",
      "75%          55.000000\n",
      "max         115.000000\n",
      "Name: age, dtype: float64\n"
     ]
    },
    {
     "data": {
      "image/png": "[encoded data removed]",
      "text/plain": [
       "<Figure size 1584x720 with 1 Axes>"
      ]
     },
     "metadata": {},
     "output_type": "display_data"
    },
    {
     "name": "stdout",
     "output_type": "stream",
     "text": [
      "The number of patients who showed and youger than 37 is 43543\n",
      "The number of patients who showed and older than 37 is 44664\n"
     ]
    },
    {
     "data": {
      "image/png": "[encoded data removed]",
      "text/plain": [
       "<Figure size 1584x720 with 1 Axes>"
      ]
     },
     "metadata": {},
     "output_type": "display_data"
    }
   ],
   "source": [
    "#Age\n",
    "print(df.age.describe())\n",
    "#Using matplotlib to get an overview \n",
    "df.age[show].hist(alpha=0.7, bins=20, label='show',figsize=(22,10))\n",
    "df.age[not_show].hist(alpha=0.5, bins=20, label='not_show',figsize=(22,10))\n",
    "plt.title(\"Age Vs no_show \")\n",
    "plt.xlabel(\"age\")\n",
    "plt.ylabel(\"No. of show/no show\")\n",
    "plt.legend()\n",
    "plt.show();\n",
    "#Figuring the age interval based on the mean that showing up more\n",
    "#Creating two dataframes\n",
    "#all the ages less than the mean age and showed up\n",
    "dfm= df[df['age'] > df.age.mean()]\n",
    "print('The number of patients who showed and youger than 37 is {}'.format(dfm.age[show].value_counts().sum()))\n",
    "#all the ages more than the mean age and showed up\n",
    "dfn= df[df['age'] <= df.age.mean()]\n",
    "print('The number of patients who showed and older than 37 is {}'.format(dfn.age[show].value_counts().sum()))\n",
    "dfm.age[show].hist(alpha=0.7, bins=20, label='youger than 37',figsize=(22,10))\n",
    "dfn.age[show].hist(alpha=0.5, bins=20, label='older than 37',figsize=(22,10))\n",
    "plt.title(\"Age interval based on the mean that tend to show up more\")\n",
    "plt.xlabel(\"age\")\n",
    "plt.ylabel(\"No. of show\")\n",
    "plt.legend();"
   ]
  },
  {
   "cell_type": "markdown",
   "metadata": {},
   "source": [
    ">**explanation**:The first graph shows the overall distribution of patients' ages, the show/no show numbers, and it can be noticed that the highest showing up records for people under 15 and people above 35 and under 40. The second graph also shows that patients who showed and older than the mean are more than the younger people. "
   ]
  },
  {
   "cell_type": "code",
   "execution_count": 139,
   "metadata": {},
   "outputs": [
    {
     "name": "stdout",
     "output_type": "stream",
     "text": [
      "0    108285\n",
      "1      2042\n",
      "2       183\n",
      "3        13\n",
      "4         3\n",
      "Name: handicap, dtype: int64\n"
     ]
    }
   ],
   "source": [
    "#Handicap\n",
    "print(df['handicap'].value_counts())"
   ]
  },
  {
   "cell_type": "code",
   "execution_count": 140,
   "metadata": {},
   "outputs": [
    {
     "name": "stdout",
     "output_type": "stream",
     "text": [
      "False    108285\n",
      "True       2241\n",
      "Name: handicap, dtype: int64\n"
     ]
    }
   ],
   "source": [
    "#we need to combine the categories from 1 to 4 into one column\n",
    "df['handicap'] = df['handicap'].astype('bool')\n",
    "print(df['handicap'].value_counts())"
   ]
  },
  {
   "cell_type": "code",
   "execution_count": 141,
   "metadata": {},
   "outputs": [
    {
     "name": "stdout",
     "output_type": "stream",
     "text": [
      "handicap  no_show\n",
      "False     False      86373\n",
      "          True       21912\n",
      "True      False       1834\n",
      "          True         407\n",
      "Name: no_show, dtype: int64\n"
     ]
    },
    {
     "data": {
      "image/png": "[encoded data removed]",
      "text/plain": [
       "<Figure size 1584x720 with 1 Axes>"
      ]
     },
     "metadata": {},
     "output_type": "display_data"
    }
   ],
   "source": [
    "print(df.groupby('handicap')['no_show'].value_counts())\n",
    "df.groupby('handicap')['no_show'].value_counts().plot(kind = 'bar',figsize=(22,10))\n",
    "plt.xlabel(\"handicap/{show-no show}\")\n",
    "plt.ylabel(\"No. Patients\")\n",
    "plt.title(\"Patients who are Handicap Vs patients who showed/not showed\");\n",
    "\n"
   ]
  },
  {
   "cell_type": "markdown",
   "metadata": {},
   "source": [
    ">**explanation**:This graph shows the overall view of patients with handicap relations. It can be noticed that most of the patients who showed up are not handicapped. Also, the number of patients who are handicapped and showed more than the number of people who did not show. But the graph illustrates that handicap does not affect the % of showing up generally."
   ]
  },
  {
   "cell_type": "code",
   "execution_count": 142,
   "metadata": {},
   "outputs": [
    {
     "name": "stdout",
     "output_type": "stream",
     "text": [
      "False    1834\n",
      "True      407\n",
      "Name: no_show, dtype: int64\n"
     ]
    },
    {
     "data": {
      "image/png": "[encoded data removed]",
      "text/plain": [
       "<Figure size 720x432 with 1 Axes>"
      ]
     },
     "metadata": {},
     "output_type": "display_data"
    },
    {
     "name": "stdout",
     "output_type": "stream",
     "text": [
      "False    86373\n",
      "True     21912\n",
      "Name: no_show, dtype: int64\n"
     ]
    },
    {
     "data": {
      "image/png": "[encoded data removed]",
      "text/plain": [
       "<Figure size 720x432 with 1 Axes>"
      ]
     },
     "metadata": {},
     "output_type": "display_data"
    }
   ],
   "source": [
    "# Creating a mask for handicap/not handicap\n",
    "not_handi= df.handicap == False\n",
    "handi= df.handicap == True\n",
    "#Using matplotlib\n",
    "print(df.no_show[handi].value_counts())\n",
    "pie, ax = plt.subplots(figsize=[10,6])\n",
    "labels = ['handi/show', 'handi/not show']\n",
    "plt.pie(x=df.no_show[handi].value_counts(), explode=[0.05]*2, labels=labels, pctdistance=0.5, shadow=True, startangle=270)\n",
    "plt.title(\"Handicap percentage of showing up\", fontsize=14);\n",
    "plt.show()\n",
    "print(df.no_show[not_handi].value_counts())\n",
    "pie, ax = plt.subplots(figsize=[10,6])\n",
    "labels = ['not handi/show', 'not handi/not show']\n",
    "plt.pie(x=df.no_show[handi].value_counts(), explode=[0.05]*2, labels=labels, pctdistance=0.5, shadow=True, startangle=270)\n",
    "plt.title(\"Not  handicap percentage of showing up\", fontsize=14);\n",
    "plt.show()"
   ]
  },
  {
   "cell_type": "markdown",
   "metadata": {},
   "source": [
    ">**explanation**:These graphs show in more depth that handicapped people had established a high % of showing up, not the opposite. "
   ]
  },
  {
   "cell_type": "code",
   "execution_count": 143,
   "metadata": {},
   "outputs": [
    {
     "name": "stdout",
     "output_type": "stream",
     "text": [
      "alcoholism  no_show\n",
      "False       False      85524\n",
      "            True       21642\n",
      "True        False       2683\n",
      "            True         677\n",
      "Name: no_show, dtype: int64\n"
     ]
    },
    {
     "data": {
      "image/png": "[encoded data removed]",
      "text/plain": [
       "<Figure size 1584x720 with 1 Axes>"
      ]
     },
     "metadata": {},
     "output_type": "display_data"
    }
   ],
   "source": [
    "#Alcoholism\n",
    "print(df.groupby('alcoholism')['no_show'].value_counts())\n",
    "df.groupby('alcoholism')['no_show'].value_counts().plot(kind = 'bar',figsize=(22,10))\n",
    "plt.xlabel(\"alcoholism/{show-no show}\")\n",
    "plt.ylabel(\"No. Patients\")\n",
    "plt.title(\"Patients who have alcoholism Vs patients who showed/not showed\");"
   ]
  },
  {
   "cell_type": "markdown",
   "metadata": {},
   "source": [
    ">**explanation**:This graph shows the overall view of patients with alcoholism relations. It can be noticed that most of the patients who showed up not alcoholism. Also, the number of patients who alcoholism and showed more than the number of people who did not show. But the graph illustrates that alcoholism does not affect the % of showing up generally."
   ]
  },
  {
   "cell_type": "code",
   "execution_count": 144,
   "metadata": {},
   "outputs": [
    {
     "name": "stdout",
     "output_type": "stream",
     "text": [
      "False    2683\n",
      "True      677\n",
      "Name: no_show, dtype: int64\n"
     ]
    },
    {
     "data": {
      "image/png": "[encoded data removed]",
      "text/plain": [
       "<Figure size 720x432 with 1 Axes>"
      ]
     },
     "metadata": {},
     "output_type": "display_data"
    },
    {
     "name": "stdout",
     "output_type": "stream",
     "text": [
      "False    85524\n",
      "True     21642\n",
      "Name: no_show, dtype: int64\n"
     ]
    },
    {
     "data": {
      "image/png": "[encoded data removed]",
      "text/plain": [
       "<Figure size 720x432 with 1 Axes>"
      ]
     },
     "metadata": {},
     "output_type": "display_data"
    }
   ],
   "source": [
    "# Creating a mask for handicap/not handicap\n",
    "not_alcoholism= df.alcoholism == False\n",
    "alcoholism= df.alcoholism == True\n",
    "#Using matplotlib\n",
    "print(df.no_show[alcoholism].value_counts())\n",
    "pie, ax = plt.subplots(figsize=[10,6])\n",
    "labels = ['alcoholism/show', 'alcoholism/not show']\n",
    "plt.pie(x=df.no_show[alcoholism].value_counts(), explode=[0.05]*2, labels=labels, pctdistance=0.5, shadow=True, startangle=270)\n",
    "plt.title(\"Alcoholism percentage of showing up\", fontsize=14);\n",
    "plt.show()\n",
    "print(df.no_show[not_alcoholism].value_counts())\n",
    "pie, ax = plt.subplots(figsize=[10,6])\n",
    "labels = ['not alcoholism/show', 'not alcoholism/not show']\n",
    "plt.pie(x=df.no_show[not_alcoholism].value_counts(), explode=[0.05]*2, labels=labels, pctdistance=0.5, shadow=True, startangle=270)\n",
    "plt.title(\"Not alcoholism percentage of showing up\", fontsize=14);\n",
    "plt.show()"
   ]
  },
  {
   "cell_type": "markdown",
   "metadata": {},
   "source": [
    ">**explanation**:These graphs show in more depth that alcoholism people had established a high % of showing up, not the opposite. "
   ]
  },
  {
   "cell_type": "markdown",
   "metadata": {},
   "source": [
    "<a id='conclusions'></a>\n",
    "## Conclusions\n",
    "\n",
    "### Findings and Results\n",
    ">After conducting the required analysis to answer the questions of this analysis,  the findings are summarized as follow:\n",
    "\n",
    ">1. The first finding states that weekend days such as Saturday scored the lowest appointments and the lowest attendance with only 30 patients. On the other hand, weekdays, especially Wednesday and Tuesday, recorded the highest numbers of patients. All the weekends days approximately showed the same rate of no-show patients. Hence, patients do not prefer weekends over weekdays.\n",
    "\n",
    ">2. The second finding states that 58.31% of patients had shown up when the appointment day was not the same day of scheduling, and 41.68% showed up when the appointment day was the same day of scheduling; hence we can say that patients prefer to schedule their appointments earlier. 71964 patients set their appointment earlier than their appointment day, with 58.31% of showing up. \n",
    "But there were 38562 patients who set their appointment the same day of their appointment day with 41.68 % pf showing up.\n",
    "\n",
    ">3. The third finding was the most surprising one because it showed that the mean of the number of people who received SMS and showed up is 0.29. On the other hand, the mean number of people who received SMS and were not shown is 0.43. hence there is no direct relation between SMS notifications and the percentage of showing up.\n",
    "\n",
    ">4. The fourth finding showed that both males and females had the same attitude of showing up and not showing up. Therefore, gender does not play any role in committing to a medical appointment.\n",
    "\n",
    ">5. The fifth finding showed that:\n",
    ">- Scholarship does not affect the probability of showing up because 8283 patients who had this scholarship showed up while 2578 did not.\n",
    ">- The mean age was 37 years old. The distribution of patients who had a higher showing up percentage fall between (37-100), which could mean that more aged people are more care eager about their medical appointments.\n",
    ">- Handicapping did not show any effect on showing up probability because 1834 of handicap people showed up in a total of 2241 patients.\n",
    ">- Alcoholism did not show a direct effect on patients showing up percentage because 2683 patients showed up from a total of 3360 patients.\n",
    "\n",
    "#### Limitations\n",
    ">The records of this data set did not directly relate to the probability of showing up that could help the administration improve the percentage of patients. I assume that there could be some human error mistakes while recording because the most supprised result is that SMS notifications did not enhance the portion of patients to show up. Something wrong needs to be fixed because we all tend to keep our appointments when we recive reminders. Some shortage needs to be fixed to improve the medical system and encourage patients to keep their appoitments by an intelligent automated system that remind the patients of their appointment's detail via SMS and emails.  "
   ]
  },
  {
   "cell_type": "markdown",
   "metadata": {
    "collapsed": true
   },
   "source": [
    "> Noran Tarek/ Data analysis professional track. "
   ]
  },
  {
   "cell_type": "code",
   "execution_count": null,
   "metadata": {},
   "outputs": [],
   "source": []
  }
 ],
 "metadata": {
  "kernelspec": {
   "display_name": "Python 3",
   "language": "python",
   "name": "python3"
  },
  "language_info": {
   "codemirror_mode": {
    "name": "ipython",
    "version": 3
   },
   "file_extension": ".py",
   "mimetype": "text/x-python",
   "name": "python",
   "nbconvert_exporter": "python",
   "pygments_lexer": "ipython3",
   "version": "3.8.5"
  }
 },
 "nbformat": 4,
 "nbformat_minor": 2
}
